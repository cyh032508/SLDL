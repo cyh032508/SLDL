{
 "cells": [
  {
   "cell_type": "markdown",
   "id": "890b8e8f-f771-4e76-bc72-a3bdd56047f3",
   "metadata": {},
   "source": [
    "## In-class hands-on activity: Feature Selection\n",
    "\n",
    "### Heart Failure Prediction\n",
    "Original dataset from <https://www.kaggle.com/datasets/fedesoriano/heart-failure-prediction/data>\n",
    "\n",
    "走過下面的的Cell, 依序執行。下面有些Cell中標明\"TODO\"。請依照說明完成這些函數或程式片段，讓整個檔案能正確的執行。\n"
   ]
  },
  {
   "cell_type": "markdown",
   "id": "bf664d4c-b9d4-4691-bffc-4ee937541792",
   "metadata": {},
   "source": [
    "\n",
    "feature selection\n",
    "https://scikit-learn.org/stable/api/sklearn.feature_selection.html\n"
   ]
  },
  {
   "cell_type": "code",
   "execution_count": 1,
   "id": "94917015-d0bb-4f6b-be3c-be59c89271cd",
   "metadata": {},
   "outputs": [],
   "source": [
    "import pandas as pd\n",
    "import numpy as np\n",
    "import seaborn as sns\n",
    "import random\n",
    "from sklearn import linear_model\n",
    "from sklearn import metrics\n",
    "from sklearn import preprocessing\n",
    "\n",
    "%matplotlib inline\n",
    "\n",
    "pd.set_option('display.max_column', 500)\n",
    "pd.set_option('display.max_rows', 5000)\n"
   ]
  },
  {
   "cell_type": "markdown",
   "id": "b25cb6bb-9d36-41ef-a1b8-3cc52b6ed577",
   "metadata": {},
   "source": [
    "### 資料說明 (From the original data provider)\n",
    "\n",
    "Cardiovascular diseases (CVDs) are the number 1 cause of death globally, taking an estimated 17.9 million lives each year, which accounts for 31% of all deaths worldwide. Four out of 5CVD deaths are due to heart attacks and strokes, and one-third of these deaths occur prematurely in people under 70 years of age. Heart failure is a common event caused by CVDs and this dataset contains 11 features that can be used to predict a possible heart disease.\n",
    "\n",
    "People with cardiovascular disease or who are at high cardiovascular risk (due to the presence of one or more risk factors such as hypertension, diabetes, hyperlipidaemia or already established disease) need early detection and management wherein a machine learning model can be of great help.\n",
    "\n",
    "### Attribute Information\n",
    "* Age: age of the patient [years]\n",
    "* Sex: sex of the patient [M: Male, F: Female]\n",
    "* ChestPainType: chest pain type [TA: Typical Angina, ATA: Atypical Angina, NAP: Non-Anginal Pain, ASY: Asymptomatic]\n",
    "* RestingBP: resting blood pressure [mm Hg]\n",
    "* Cholesterol: serum cholesterol [mm/dl]\n",
    "* FastingBS: fasting blood sugar [1: if FastingBS > 120 mg/dl, 0: otherwise]\n",
    "* RestingECG: resting electrocardiogram results [Normal: Normal, ST: having ST-T wave abnormality (T wave inversions and/or ST elevation or depression of > 0.05 mV), LVH: showing probable or definite left ventricular hypertrophy by Estes' criteria]\n",
    "* MaxHR: maximum heart rate achieved [Numeric value between 60 and 202]\n",
    "* ExerciseAngina: exercise-induced angina [Y: Yes, N: No]\n",
    "* Oldpeak: oldpeak = ST [Numeric value measured in depression]\n",
    "* ST_Slope: the slope of the peak exercise ST segment [Up: upsloping, Flat: flat, Down: downsloping]\n",
    "* HeartDisease: output class [1: heart disease, 0: Normal]\n"
   ]
  },
  {
   "cell_type": "code",
   "execution_count": 2,
   "id": "947f0acc-7a83-4cb3-9c03-31ff1bf101ff",
   "metadata": {},
   "outputs": [
    {
     "data": {
      "text/html": [
       "<div>\n",
       "<style scoped>\n",
       "    .dataframe tbody tr th:only-of-type {\n",
       "        vertical-align: middle;\n",
       "    }\n",
       "\n",
       "    .dataframe tbody tr th {\n",
       "        vertical-align: top;\n",
       "    }\n",
       "\n",
       "    .dataframe thead th {\n",
       "        text-align: right;\n",
       "    }\n",
       "</style>\n",
       "<table border=\"1\" class=\"dataframe\">\n",
       "  <thead>\n",
       "    <tr style=\"text-align: right;\">\n",
       "      <th></th>\n",
       "      <th>Age</th>\n",
       "      <th>Sex</th>\n",
       "      <th>ChestPainType</th>\n",
       "      <th>RestingBP</th>\n",
       "      <th>Cholesterol</th>\n",
       "      <th>FastingBS</th>\n",
       "      <th>RestingECG</th>\n",
       "      <th>MaxHR</th>\n",
       "      <th>ExerciseAngina</th>\n",
       "      <th>Oldpeak</th>\n",
       "      <th>ST_Slope</th>\n",
       "      <th>HeartDisease</th>\n",
       "    </tr>\n",
       "  </thead>\n",
       "  <tbody>\n",
       "    <tr>\n",
       "      <th>0</th>\n",
       "      <td>40</td>\n",
       "      <td>M</td>\n",
       "      <td>ATA</td>\n",
       "      <td>140</td>\n",
       "      <td>289</td>\n",
       "      <td>0</td>\n",
       "      <td>Normal</td>\n",
       "      <td>172</td>\n",
       "      <td>N</td>\n",
       "      <td>0.0</td>\n",
       "      <td>Up</td>\n",
       "      <td>0</td>\n",
       "    </tr>\n",
       "    <tr>\n",
       "      <th>1</th>\n",
       "      <td>49</td>\n",
       "      <td>F</td>\n",
       "      <td>NAP</td>\n",
       "      <td>160</td>\n",
       "      <td>180</td>\n",
       "      <td>0</td>\n",
       "      <td>Normal</td>\n",
       "      <td>156</td>\n",
       "      <td>N</td>\n",
       "      <td>1.0</td>\n",
       "      <td>Flat</td>\n",
       "      <td>1</td>\n",
       "    </tr>\n",
       "    <tr>\n",
       "      <th>2</th>\n",
       "      <td>37</td>\n",
       "      <td>M</td>\n",
       "      <td>ATA</td>\n",
       "      <td>130</td>\n",
       "      <td>283</td>\n",
       "      <td>0</td>\n",
       "      <td>ST</td>\n",
       "      <td>98</td>\n",
       "      <td>N</td>\n",
       "      <td>0.0</td>\n",
       "      <td>Up</td>\n",
       "      <td>0</td>\n",
       "    </tr>\n",
       "    <tr>\n",
       "      <th>3</th>\n",
       "      <td>48</td>\n",
       "      <td>F</td>\n",
       "      <td>ASY</td>\n",
       "      <td>138</td>\n",
       "      <td>214</td>\n",
       "      <td>0</td>\n",
       "      <td>Normal</td>\n",
       "      <td>108</td>\n",
       "      <td>Y</td>\n",
       "      <td>1.5</td>\n",
       "      <td>Flat</td>\n",
       "      <td>1</td>\n",
       "    </tr>\n",
       "    <tr>\n",
       "      <th>4</th>\n",
       "      <td>54</td>\n",
       "      <td>M</td>\n",
       "      <td>NAP</td>\n",
       "      <td>150</td>\n",
       "      <td>195</td>\n",
       "      <td>0</td>\n",
       "      <td>Normal</td>\n",
       "      <td>122</td>\n",
       "      <td>N</td>\n",
       "      <td>0.0</td>\n",
       "      <td>Up</td>\n",
       "      <td>0</td>\n",
       "    </tr>\n",
       "  </tbody>\n",
       "</table>\n",
       "</div>"
      ],
      "text/plain": [
       "   Age Sex ChestPainType  RestingBP  Cholesterol  FastingBS RestingECG  MaxHR  \\\n",
       "0   40   M           ATA        140          289          0     Normal    172   \n",
       "1   49   F           NAP        160          180          0     Normal    156   \n",
       "2   37   M           ATA        130          283          0         ST     98   \n",
       "3   48   F           ASY        138          214          0     Normal    108   \n",
       "4   54   M           NAP        150          195          0     Normal    122   \n",
       "\n",
       "  ExerciseAngina  Oldpeak ST_Slope  HeartDisease  \n",
       "0              N      0.0       Up             0  \n",
       "1              N      1.0     Flat             1  \n",
       "2              N      0.0       Up             0  \n",
       "3              Y      1.5     Flat             1  \n",
       "4              N      0.0       Up             0  "
      ]
     },
     "execution_count": 2,
     "metadata": {},
     "output_type": "execute_result"
    }
   ],
   "source": [
    "# Start with data loading and showing sample data\n",
    "df=pd.read_csv(\"heart.csv\")\n",
    "df.head()"
   ]
  },
  {
   "cell_type": "code",
   "execution_count": 3,
   "id": "a12d3ebb-980c-441d-a43d-17369ddd0378",
   "metadata": {},
   "outputs": [
    {
     "data": {
      "text/plain": [
       "Age                 int64\n",
       "Sex                object\n",
       "ChestPainType      object\n",
       "RestingBP           int64\n",
       "Cholesterol         int64\n",
       "FastingBS           int64\n",
       "RestingECG         object\n",
       "MaxHR               int64\n",
       "ExerciseAngina     object\n",
       "Oldpeak           float64\n",
       "ST_Slope           object\n",
       "HeartDisease        int64\n",
       "dtype: object"
      ]
     },
     "execution_count": 3,
     "metadata": {},
     "output_type": "execute_result"
    }
   ],
   "source": [
    "# make sure the data types are reasonable\n",
    "df.dtypes"
   ]
  },
  {
   "cell_type": "code",
   "execution_count": 4,
   "id": "a4e209f8-74d0-4e36-8322-7deb6d0ebdf3",
   "metadata": {},
   "outputs": [
    {
     "data": {
      "text/plain": [
       "HeartDisease\n",
       "1    508\n",
       "0    410\n",
       "Name: count, dtype: int64"
      ]
     },
     "execution_count": 4,
     "metadata": {},
     "output_type": "execute_result"
    }
   ],
   "source": [
    "df.HeartDisease.value_counts()"
   ]
  },
  {
   "cell_type": "code",
   "execution_count": 5,
   "id": "96933fce-8ff4-4dac-b30c-a364f36a8444",
   "metadata": {},
   "outputs": [
    {
     "data": {
      "text/html": [
       "<div>\n",
       "<style scoped>\n",
       "    .dataframe tbody tr th:only-of-type {\n",
       "        vertical-align: middle;\n",
       "    }\n",
       "\n",
       "    .dataframe tbody tr th {\n",
       "        vertical-align: top;\n",
       "    }\n",
       "\n",
       "    .dataframe thead th {\n",
       "        text-align: right;\n",
       "    }\n",
       "</style>\n",
       "<table border=\"1\" class=\"dataframe\">\n",
       "  <thead>\n",
       "    <tr style=\"text-align: right;\">\n",
       "      <th></th>\n",
       "      <th>Age</th>\n",
       "      <th>RestingBP</th>\n",
       "      <th>Cholesterol</th>\n",
       "      <th>FastingBS</th>\n",
       "      <th>MaxHR</th>\n",
       "      <th>Oldpeak</th>\n",
       "      <th>HeartDisease</th>\n",
       "      <th>Sex_F</th>\n",
       "      <th>Sex_M</th>\n",
       "      <th>ChestPainType_ASY</th>\n",
       "      <th>ChestPainType_ATA</th>\n",
       "      <th>ChestPainType_NAP</th>\n",
       "      <th>ChestPainType_TA</th>\n",
       "      <th>RestingECG_LVH</th>\n",
       "      <th>RestingECG_Normal</th>\n",
       "      <th>RestingECG_ST</th>\n",
       "      <th>ExerciseAngina_N</th>\n",
       "      <th>ExerciseAngina_Y</th>\n",
       "      <th>ST_Slope_Down</th>\n",
       "      <th>ST_Slope_Flat</th>\n",
       "      <th>ST_Slope_Up</th>\n",
       "    </tr>\n",
       "  </thead>\n",
       "  <tbody>\n",
       "    <tr>\n",
       "      <th>0</th>\n",
       "      <td>40</td>\n",
       "      <td>140</td>\n",
       "      <td>289</td>\n",
       "      <td>0</td>\n",
       "      <td>172</td>\n",
       "      <td>0.0</td>\n",
       "      <td>0</td>\n",
       "      <td>False</td>\n",
       "      <td>True</td>\n",
       "      <td>False</td>\n",
       "      <td>True</td>\n",
       "      <td>False</td>\n",
       "      <td>False</td>\n",
       "      <td>False</td>\n",
       "      <td>True</td>\n",
       "      <td>False</td>\n",
       "      <td>True</td>\n",
       "      <td>False</td>\n",
       "      <td>False</td>\n",
       "      <td>False</td>\n",
       "      <td>True</td>\n",
       "    </tr>\n",
       "    <tr>\n",
       "      <th>1</th>\n",
       "      <td>49</td>\n",
       "      <td>160</td>\n",
       "      <td>180</td>\n",
       "      <td>0</td>\n",
       "      <td>156</td>\n",
       "      <td>1.0</td>\n",
       "      <td>1</td>\n",
       "      <td>True</td>\n",
       "      <td>False</td>\n",
       "      <td>False</td>\n",
       "      <td>False</td>\n",
       "      <td>True</td>\n",
       "      <td>False</td>\n",
       "      <td>False</td>\n",
       "      <td>True</td>\n",
       "      <td>False</td>\n",
       "      <td>True</td>\n",
       "      <td>False</td>\n",
       "      <td>False</td>\n",
       "      <td>True</td>\n",
       "      <td>False</td>\n",
       "    </tr>\n",
       "    <tr>\n",
       "      <th>2</th>\n",
       "      <td>37</td>\n",
       "      <td>130</td>\n",
       "      <td>283</td>\n",
       "      <td>0</td>\n",
       "      <td>98</td>\n",
       "      <td>0.0</td>\n",
       "      <td>0</td>\n",
       "      <td>False</td>\n",
       "      <td>True</td>\n",
       "      <td>False</td>\n",
       "      <td>True</td>\n",
       "      <td>False</td>\n",
       "      <td>False</td>\n",
       "      <td>False</td>\n",
       "      <td>False</td>\n",
       "      <td>True</td>\n",
       "      <td>True</td>\n",
       "      <td>False</td>\n",
       "      <td>False</td>\n",
       "      <td>False</td>\n",
       "      <td>True</td>\n",
       "    </tr>\n",
       "    <tr>\n",
       "      <th>3</th>\n",
       "      <td>48</td>\n",
       "      <td>138</td>\n",
       "      <td>214</td>\n",
       "      <td>0</td>\n",
       "      <td>108</td>\n",
       "      <td>1.5</td>\n",
       "      <td>1</td>\n",
       "      <td>True</td>\n",
       "      <td>False</td>\n",
       "      <td>True</td>\n",
       "      <td>False</td>\n",
       "      <td>False</td>\n",
       "      <td>False</td>\n",
       "      <td>False</td>\n",
       "      <td>True</td>\n",
       "      <td>False</td>\n",
       "      <td>False</td>\n",
       "      <td>True</td>\n",
       "      <td>False</td>\n",
       "      <td>True</td>\n",
       "      <td>False</td>\n",
       "    </tr>\n",
       "    <tr>\n",
       "      <th>4</th>\n",
       "      <td>54</td>\n",
       "      <td>150</td>\n",
       "      <td>195</td>\n",
       "      <td>0</td>\n",
       "      <td>122</td>\n",
       "      <td>0.0</td>\n",
       "      <td>0</td>\n",
       "      <td>False</td>\n",
       "      <td>True</td>\n",
       "      <td>False</td>\n",
       "      <td>False</td>\n",
       "      <td>True</td>\n",
       "      <td>False</td>\n",
       "      <td>False</td>\n",
       "      <td>True</td>\n",
       "      <td>False</td>\n",
       "      <td>True</td>\n",
       "      <td>False</td>\n",
       "      <td>False</td>\n",
       "      <td>False</td>\n",
       "      <td>True</td>\n",
       "    </tr>\n",
       "  </tbody>\n",
       "</table>\n",
       "</div>"
      ],
      "text/plain": [
       "   Age  RestingBP  Cholesterol  FastingBS  MaxHR  Oldpeak  HeartDisease  \\\n",
       "0   40        140          289          0    172      0.0             0   \n",
       "1   49        160          180          0    156      1.0             1   \n",
       "2   37        130          283          0     98      0.0             0   \n",
       "3   48        138          214          0    108      1.5             1   \n",
       "4   54        150          195          0    122      0.0             0   \n",
       "\n",
       "   Sex_F  Sex_M  ChestPainType_ASY  ChestPainType_ATA  ChestPainType_NAP  \\\n",
       "0  False   True              False               True              False   \n",
       "1   True  False              False              False               True   \n",
       "2  False   True              False               True              False   \n",
       "3   True  False               True              False              False   \n",
       "4  False   True              False              False               True   \n",
       "\n",
       "   ChestPainType_TA  RestingECG_LVH  RestingECG_Normal  RestingECG_ST  \\\n",
       "0             False           False               True          False   \n",
       "1             False           False               True          False   \n",
       "2             False           False              False           True   \n",
       "3             False           False               True          False   \n",
       "4             False           False               True          False   \n",
       "\n",
       "   ExerciseAngina_N  ExerciseAngina_Y  ST_Slope_Down  ST_Slope_Flat  \\\n",
       "0              True             False          False          False   \n",
       "1              True             False          False           True   \n",
       "2              True             False          False          False   \n",
       "3             False              True          False           True   \n",
       "4              True             False          False          False   \n",
       "\n",
       "   ST_Slope_Up  \n",
       "0         True  \n",
       "1        False  \n",
       "2         True  \n",
       "3        False  \n",
       "4         True  "
      ]
     },
     "execution_count": 5,
     "metadata": {},
     "output_type": "execute_result"
    }
   ],
   "source": [
    "cat_cols = ['Sex', 'ChestPainType', 'RestingECG', 'ExerciseAngina', 'ST_Slope']\n",
    "df_wc=pd.get_dummies(df,columns=cat_cols, drop_first=False)\n",
    "df_wc.head()"
   ]
  },
  {
   "cell_type": "code",
   "execution_count": 6,
   "id": "82ae3ced-ebbb-481a-82db-6f58bec43035",
   "metadata": {},
   "outputs": [
    {
     "name": "stdout",
     "output_type": "stream",
     "text": [
      "Features to be include in the model ['Age', 'RestingBP', 'Cholesterol', 'FastingBS', 'MaxHR', 'Oldpeak', 'Sex_F', 'Sex_M', 'ChestPainType_ASY', 'ChestPainType_ATA', 'ChestPainType_NAP', 'ChestPainType_TA', 'RestingECG_LVH', 'RestingECG_Normal', 'RestingECG_ST', 'ExerciseAngina_N', 'ExerciseAngina_Y', 'ST_Slope_Down', 'ST_Slope_Flat', 'ST_Slope_Up']\n"
     ]
    }
   ],
   "source": [
    "# split training and test\n",
    "\n",
    "random.seed(1001)\n",
    "np.random.seed(1001)\n",
    "mask1 = np.random.rand(len(df_wc)) < 0.9\n",
    "df_wc_train = df_wc[mask1].copy()\n",
    "df_wc_test = df_wc[~mask1].copy()\n",
    "\n",
    "target = 'HeartDisease'\n",
    "featnames = df_wc.columns.to_list()\n",
    "featnames.remove(target)\n",
    "\n",
    "print(\"Features to be include in the model\", featnames)"
   ]
  },
  {
   "cell_type": "code",
   "execution_count": 7,
   "id": "28f7c314-9a90-41be-92cf-effb5640bc3b",
   "metadata": {},
   "outputs": [],
   "source": [
    "# Feature standardization\n",
    "\n",
    "X_train = df_wc_train[featnames].values\n",
    "y_train = df_wc_train[target].values\n",
    "\n",
    "X_test = df_wc_test[featnames].values\n",
    "y_test = df_wc_test[target].values\n",
    "\n",
    "mm_scaler=preprocessing.MinMaxScaler()\n",
    "X_train=mm_scaler.fit_transform(X_train)\n",
    "X_test=mm_scaler.transform(X_test)\n"
   ]
  },
  {
   "cell_type": "markdown",
   "id": "1f7a865d-c3c3-42ea-8196-11fc6c43c76f",
   "metadata": {},
   "source": [
    "### Fitting Logistic Regression\n",
    "\n",
    "Use linear_model.LogisticRegressionCV() to fit a logistic regression model to the training data. Use metrics.classification_report() to compute prediction performance. Answer the following questions. \n",
    "\n",
    "1. List first five coefficients and their feature names.\n",
    "2. Interpret the meanings of these feature coefficients.\n",
    "3. Show the regularization coefficient selected by the CV routine.\n",
    "4. Apply the model to predict the test set. What is the accuracy, precision, and recall?"
   ]
  },
  {
   "cell_type": "code",
   "execution_count": 8,
   "id": "6f28f2a8-aafe-44a4-8937-00afdb2b0677",
   "metadata": {},
   "outputs": [
    {
     "name": "stdout",
     "output_type": "stream",
     "text": [
      "Age            : 0.0811\n",
      "RestingBP      : 0.0103\n",
      "Cholesterol    : -0.0796\n",
      "FastingBS      : 0.1846\n",
      "MaxHR          : -0.0993\n",
      "\n",
      "Classification report on test set:\n",
      "              precision    recall  f1-score   support\n",
      "\n",
      "           0     0.9286    0.7647    0.8387        34\n",
      "           1     0.8222    0.9487    0.8810        39\n",
      "\n",
      "    accuracy                         0.8630        73\n",
      "   macro avg     0.8754    0.8567    0.8598        73\n",
      "weighted avg     0.8718    0.8630    0.8613        73\n",
      "\n",
      "\n",
      "Regularization coefficient (C) selected by CV: 0.0060\n"
     ]
    }
   ],
   "source": [
    "# Fitting Logistic Regression\n",
    "from sklearn.linear_model import LogisticRegressionCV\n",
    "\n",
    "logreg_cv = LogisticRegressionCV(cv=5, penalty='l2', solver='lbfgs', max_iter=1000, scoring='accuracy', random_state=1001)\n",
    "logreg_cv.fit(X_train, y_train)\n",
    "\n",
    "coefs = logreg_cv.coef_[0]\n",
    "for i in range(5):\n",
    "    print(f\"{featnames[i]:<15}: {coefs[i]:.4f}\")\n",
    "\n",
    "y_pred = logreg_cv.predict(X_test)\n",
    "print(\"\\nClassification report on test set:\")\n",
    "print(metrics.classification_report(y_test, y_pred, digits=4))\n",
    "\n",
    "print(f\"\\nRegularization coefficient (C) selected by CV: {logreg_cv.C_[0]:.4f}\")"
   ]
  },
  {
   "cell_type": "markdown",
   "id": "fcefe140",
   "metadata": {},
   "source": [
    "正值表示該特徵增加時，患心臟病的機率增加；負值則相反。"
   ]
  },
  {
   "cell_type": "markdown",
   "id": "67776635-be16-4d7a-afc0-2cc3c0290cad",
   "metadata": {},
   "source": [
    "### Sanity Check\n",
    "<pre>\n",
    "First five features and coefficients\n",
    "Age         : 0.0811\n",
    "RestingBP   : 0.0103\n",
    "Cholesterol : -0.0796\n",
    "FastingBS   : 0.1846\n",
    "MaxHR       : -0.0993\n",
    "---\n",
    "The regularization coefficient is 0.0060\n",
    "---\n",
    "              precision    recall  f1-score   support\n",
    "\n",
    "           0     0.9286    0.7647    0.8387        34\n",
    "           1     0.8222    0.9487    0.8810        39\n",
    "\n",
    "    accuracy                         0.8630        73\n",
    "   macro avg     0.8754    0.8567    0.8598        73\n",
    "weighted avg     0.8718    0.8630    0.8613        73    \n",
    "</pre>"
   ]
  },
  {
   "cell_type": "markdown",
   "id": "0fe869d7-ca0c-4589-9883-bf6999952ed1",
   "metadata": {},
   "source": [
    "### Feature Selection Exercise: Using Chi-Squared Scores\n",
    "\n",
    "Refer to the document if neede: \n",
    "<https://scikit-learn.org/stable/modules/generated/sklearn.feature_selection.chi2.html#sklearn.feature_selection.chi2>\n",
    "\n",
    "We will not touch the continuous features (index 0 - 5) in this part and will focus on discrete features. Below list all discrete features considered. \n"
   ]
  },
  {
   "cell_type": "code",
   "execution_count": 9,
   "id": "cd04fb7d-e22e-49f5-9fe8-a42746974ed6",
   "metadata": {},
   "outputs": [
    {
     "name": "stdout",
     "output_type": "stream",
     "text": [
      "One-hot encoded features: ['Sex_F', 'Sex_M', 'ChestPainType_ASY', 'ChestPainType_ATA', 'ChestPainType_NAP', 'ChestPainType_TA', 'RestingECG_LVH', 'RestingECG_Normal', 'RestingECG_ST', 'ExerciseAngina_N', 'ExerciseAngina_Y', 'ST_Slope_Down', 'ST_Slope_Flat', 'ST_Slope_Up']\n"
     ]
    }
   ],
   "source": [
    "catnames = featnames[6:]\n",
    "print(f\"One-hot encoded features: {catnames}\")"
   ]
  },
  {
   "cell_type": "markdown",
   "id": "ddffe5d0-5a35-445c-ad12-961ccf246e1f",
   "metadata": {},
   "source": [
    "### TODO\n",
    "\n",
    "Identify and remove four one-hot encoded features that are the least useful based on the Chi-squared scores. Rerun the logistic regression and observe the changes in accuracy F1-score. Compute the chi-squared score using `sklearn.feature_selection.chi2()` directly and then follow through the feature selection routine. The goal of this exercise is to get familiar with the univariate feature selection procedure. Do not use automated routine such as `sklearn.feature_selection.SelectKBest.`  Use these wonderful routines sometime later when you know exactly what you are doing. \n",
    "\n",
    "In addition to the change in prediction performance, pay special attention to Sex_F and Sex_M. What happened to these two features and why?\n",
    "\n"
   ]
  },
  {
   "cell_type": "code",
   "execution_count": 10,
   "id": "a329b5a0-c6cb-4b3b-a9ab-2429f52b27bc",
   "metadata": {},
   "outputs": [
    {
     "name": "stdout",
     "output_type": "stream",
     "text": [
      "Removing RestingECG_LVH\n",
      "Removing ChestPainType_TA\n",
      "Removing RestingECG_Normal\n",
      "Removing RestingECG_ST\n",
      "\n",
      "Classification report after feature removal:\n",
      "              precision    recall  f1-score   support\n",
      "\n",
      "           0     0.9310    0.7941    0.8571        34\n",
      "           1     0.8409    0.9487    0.8916        39\n",
      "\n",
      "    accuracy                         0.8767        73\n",
      "   macro avg     0.8860    0.8714    0.8744        73\n",
      "weighted avg     0.8829    0.8767    0.8755        73\n",
      "\n",
      "\n",
      "Sex_F and Sex_M still in features? True , True\n"
     ]
    }
   ],
   "source": [
    "# Feature Selection by Chi-squared scores\n",
    "from sklearn.feature_selection import chi2\n",
    "from sklearn.preprocessing import MinMaxScaler\n",
    "\n",
    "X_cat_train = df_wc_train[catnames]\n",
    "chi2_scores, _ = chi2(X_cat_train, y_train)\n",
    "chi2_result = pd.Series(chi2_scores, index=catnames).sort_values()\n",
    "\n",
    "remove_features = chi2_result.index[:4].tolist()\n",
    "for f in remove_features:\n",
    "        print(\"Removing\", f)\n",
    "\n",
    "new_featnames = [f for f in featnames if f not in remove_features]\n",
    "\n",
    "X_train_new = df_wc_train[new_featnames].values\n",
    "X_test_new = df_wc_test[new_featnames].values\n",
    "mm_scaler_new = MinMaxScaler()\n",
    "X_train_new = mm_scaler_new.fit_transform(X_train_new)\n",
    "X_test_new = mm_scaler_new.transform(X_test_new)\n",
    "\n",
    "logreg_cv2 = LogisticRegressionCV(cv=5, penalty='l2', solver='lbfgs', max_iter=1000, scoring='accuracy', random_state=1001)\n",
    "logreg_cv2.fit(X_train_new, y_train)\n",
    "y_pred_new = logreg_cv2.predict(X_test_new)\n",
    "print(\"\\nClassification report after feature removal:\")\n",
    "print(metrics.classification_report(y_test, y_pred_new, digits=4))\n",
    "\n",
    "print(\"\\nSex_F and Sex_M still in features?\" , \"Sex_F\" in new_featnames, \",\", \"Sex_M\" in new_featnames)"
   ]
  },
  {
   "cell_type": "markdown",
   "id": "bc0baac1",
   "metadata": {},
   "source": [
    "Sex_F、Sex_M 這兩個特徵在資料中很可能與目標變數 y 有顯著關聯，所以在計算 chi2 時分數很高。"
   ]
  },
  {
   "cell_type": "markdown",
   "id": "3940ca5a-3093-4532-b119-ae4d28d2c0e6",
   "metadata": {},
   "source": [
    "### Sanity Check\n",
    "<pre>\n",
    "Removing RestingECG_LVH\n",
    "Removing ChestPainType_TA\n",
    "Removing RestingECG_Normal\n",
    "Removing RestingECG_ST    \n",
    "</pre>"
   ]
  },
  {
   "cell_type": "markdown",
   "id": "a538a45b-447b-4aaf-bf74-adb45d4c04f2",
   "metadata": {},
   "source": [
    "### --- Remove below ---\n",
    "\n",
    "When using all features:\n",
    "* accuracy =  0.8630\n",
    "* F1-score = 0.8810\n",
    "\n",
    "When removed 4 least useful features using Chi-squared scores:\n",
    "* accuracy = 0.8767\n",
    "* F1-score = 0.8916\n",
    "\n",
    "It seems that feature selection do help with model prediction performance!\n",
    "\n",
    "### --- remove above ---"
   ]
  },
  {
   "cell_type": "markdown",
   "id": "3a7d14a3-f57e-468b-9f91-e88e814954a0",
   "metadata": {},
   "source": [
    "### The Wrapper Approach Using RFECV\n",
    "\n",
    "The Recursive Feature Elimination with Cross Validation (RFECV) implements a version of backward feature selection that we have discussed in class. Below is the description from the document:\n",
    "\n",
    "Given an external estimator that assigns weights to features (e.g., the coefficients of a linear model), the goal of recursive feature elimination (RFE) is to select features by recursively considering smaller and smaller sets of features. First, the estimator is trained on the initial set of features and the importance of each feature is obtained either through any specific attribute (such as coef_, feature_importances_) or callable. Then, the least important features are pruned from the current set of features. That procedure is recursively repeated on the pruned set until the desired number of features to select is eventually reached.\n",
    "\n",
    "RFECV performs RFE in a cross-validation loop to find the optimal number of features. \n",
    "\n",
    "Refer to the document if neede: <https://scikit-learn.org/stable/modules/feature_selection.html#rfe>\n",
    "\n",
    "Please use RFECV to select the best subset of features using `LogisticRegression(C=10)`as the estimator. Set the min_features_to_select to 1 and use accuracy for scoring. Create a sklearn.model_selection.StratifiedKFold(5) to provide cross validation functionality. \n",
    "\n",
    "Report the number of optimal features select, list these features, and report prediction performance. Note that we are considering all features no matter they are discrete or continuously valued. "
   ]
  },
  {
   "cell_type": "code",
   "execution_count": 11,
   "id": "d886c54f-338e-40f2-a5a6-453b3782a008",
   "metadata": {},
   "outputs": [
    {
     "name": "stdout",
     "output_type": "stream",
     "text": [
      "Optimal number of features: 13\n",
      "Selected features are ['Age', 'Cholesterol', 'FastingBS', 'MaxHR', 'Oldpeak', 'Sex_F', 'Sex_M', 'ChestPainType_ASY', 'ChestPainType_ATA', 'ChestPainType_NAP', 'ExerciseAngina_N', 'ST_Slope_Flat', 'ST_Slope_Up']\n",
      "Classification report with selected features:\n",
      "              precision    recall  f1-score   support\n",
      "\n",
      "           0     0.9355    0.8529    0.8923        34\n",
      "           1     0.8810    0.9487    0.9136        39\n",
      "\n",
      "    accuracy                         0.9041        73\n",
      "   macro avg     0.9082    0.9008    0.9029        73\n",
      "weighted avg     0.9064    0.9041    0.9037        73\n",
      "\n"
     ]
    }
   ],
   "source": [
    "# Wrapper Approach Using RFECV\n",
    "from sklearn.feature_selection import RFECV\n",
    "from sklearn.linear_model import LogisticRegression\n",
    "from sklearn.model_selection import StratifiedKFold\n",
    "\n",
    "estimator = LogisticRegression(C=10, penalty='l2', solver='lbfgs', max_iter=1000, random_state=1001)\n",
    "cv = StratifiedKFold(n_splits=5, shuffle=True, random_state=1001)\n",
    "rfecv = RFECV(estimator, step=1, cv=cv, scoring='accuracy', min_features_to_select=1)\n",
    "rfecv.fit(X_train, y_train)\n",
    "\n",
    "print(\"Optimal number of features:\", rfecv.n_features_)\n",
    "\n",
    "selected_features = [feat for feat, selected in zip(featnames, rfecv.support_) if selected]\n",
    "print(\"Selected features are\", selected_features)\n",
    "\n",
    "X_train_rfecv = X_train[:, rfecv.support_]\n",
    "X_test_rfecv = X_test[:, rfecv.support_]\n",
    "\n",
    "final_model = LogisticRegression(C=10, penalty='l2', solver='lbfgs', max_iter=1000, random_state=1001)\n",
    "final_model.fit(X_train_rfecv, y_train)\n",
    "y_pred_rfecv = final_model.predict(X_test_rfecv)\n",
    "\n",
    "print(\"Classification report with selected features:\")\n",
    "print(metrics.classification_report(y_test, y_pred_rfecv, digits=4))"
   ]
  },
  {
   "cell_type": "markdown",
   "id": "0ec0b611-dea2-4f6b-a416-14a278dccc30",
   "metadata": {},
   "source": [
    "### Sanity Check\n",
    "\n",
    "<pre>\n",
    "Optimal number of features: 13\n",
    "Selected features are ['Age', 'Cholesterol', 'FastingBS', 'MaxHR', 'Oldpeak', 'Sex_F', 'Sex_M', 'ChestPainType_ASY', 'ChestPainType_ATA', 'ChestPainType_NAP', 'ExerciseAngina_N', 'ST_Slope_Flat', 'ST_Slope_Up']    \n",
    "</pre>\n"
   ]
  },
  {
   "cell_type": "markdown",
   "id": "9645f597-3cff-458f-afa0-645294394440",
   "metadata": {},
   "source": [
    "### Prediction Accuracy vs. Number of Features\n",
    "\n",
    "For the last part, let's look at the plot of the prediction accuracy on the number of features included. \n",
    "\n",
    "TODO: Can you compute the number of features to be include using the one-standard-deviation rule?"
   ]
  },
  {
   "cell_type": "code",
   "execution_count": 12,
   "id": "60104279-6061-4a63-b1a2-07dfcb5e405c",
   "metadata": {},
   "outputs": [
    {
     "data": {
      "image/png": "[encoded data removed]",
      "text/plain": [
       "<Figure size 640x480 with 1 Axes>"
      ]
     },
     "metadata": {},
     "output_type": "display_data"
    }
   ],
   "source": [
    "import matplotlib.pyplot as plt\n",
    "import pandas as pd\n",
    "\n",
    "data = {\n",
    "    key: value\n",
    "    for key, value in rfecv.cv_results_.items()\n",
    "    if key in [\"n_features\", \"mean_test_score\", \"std_test_score\"]\n",
    "}\n",
    "cv_results = pd.DataFrame(data)\n",
    "plt.figure()\n",
    "plt.xlabel(\"Number of features selected\")\n",
    "plt.ylabel(\"Mean test accuracy\")\n",
    "plt.errorbar(\n",
    "    x=cv_results[\"n_features\"],\n",
    "    y=cv_results[\"mean_test_score\"],\n",
    "    yerr=cv_results[\"std_test_score\"],\n",
    ")\n",
    "plt.title(\"Recursive Feature Elimination \\nwith correlated features\")\n",
    "plt.show()"
   ]
  },
  {
   "cell_type": "markdown",
   "id": "903deb4e-2d1c-4c36-b146-a666ffaa8489",
   "metadata": {},
   "source": [
    "### TODO\n",
    "\n",
    "Compute the number of features to be included using the one-standard-deviation rule. \n",
    "\n"
   ]
  },
  {
   "cell_type": "code",
   "execution_count": 13,
   "id": "9e7964ca-5ace-4637-920f-38f43365ccda",
   "metadata": {},
   "outputs": [
    {
     "name": "stdout",
     "output_type": "stream",
     "text": [
      "Number of features that maximize accuracy = 13\n",
      "Number of features that achieve the lower bound accuracy = 6\n"
     ]
    }
   ],
   "source": [
    "# One-standard-deviation rule for RFECV\n",
    "import numpy as np\n",
    "\n",
    "mean_scores = rfecv.cv_results_[\"mean_test_score\"]\n",
    "std_scores = rfecv.cv_results_[\"std_test_score\"]\n",
    "n_features = rfecv.cv_results_[\"n_features\"]\n",
    "\n",
    "max_acc_idx = np.argmax(mean_scores)\n",
    "print(\"Number of features that maximize accuracy =\", n_features[max_acc_idx])\n",
    "\n",
    "lower_bound = mean_scores[max_acc_idx] - std_scores[max_acc_idx]\n",
    "\n",
    "n_features_1sd = n_features[np.where(mean_scores >= lower_bound)[0][0]]\n",
    "print(\"Number of features that achieve the lower bound accuracy =\", n_features_1sd)"
   ]
  },
  {
   "cell_type": "markdown",
   "id": "d1fbc075-64da-4344-aea4-33572720e04b",
   "metadata": {},
   "source": [
    "### Sanity Check\n",
    "\n",
    "<pre>\n",
    "Number of features that maximize accuracy = 14\n",
    "Number of features that achieve the lower bound accuracy = 5    \n",
    "</pre>"
   ]
  }
 ],
 "metadata": {
  "kernelspec": {
   "display_name": "Python 3 (ipykernel)",
   "language": "python",
   "name": "python3"
  },
  "language_info": {
   "codemirror_mode": {
    "name": "ipython",
    "version": 3
   },
   "file_extension": ".py",
   "mimetype": "text/x-python",
   "name": "python",
   "nbconvert_exporter": "python",
   "pygments_lexer": "ipython3",
   "version": "3.12.9"
  }
 },
 "nbformat": 4,
 "nbformat_minor": 5
}
