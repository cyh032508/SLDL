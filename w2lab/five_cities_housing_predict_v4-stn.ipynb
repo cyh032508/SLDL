{
 "cells": [
  {
   "cell_type": "markdown",
   "id": "890b8e8f-f771-4e76-bc72-a3bdd56047f3",
   "metadata": {},
   "source": [
    "## In-class hands-on activity: Regression Parts 1-2\n",
    "\n",
    "### Real estate price prediction\n",
    "主題: 建構迴歸模型、計算預測準確度、與處理類別型特徵。\n",
    "\n",
    "走過下面的的Cell, 依序執行。下面有些Cell中標明\"TODO\"。請依照說明完成這些函數，讓整個檔案能正確的執行。\n",
    "\n",
    "課程名稱: 統計學習與深度學習。授課教師: 盧信銘。任務設計: 盧信銘。"
   ]
  },
  {
   "cell_type": "code",
   "execution_count": 1,
   "id": "94917015-d0bb-4f6b-be3c-be59c89271cd",
   "metadata": {},
   "outputs": [],
   "source": [
    "import pandas as pd\n",
    "import numpy as np\n",
    "import seaborn as sns\n",
    "import random\n",
    "from sklearn.preprocessing import OneHotEncoder\n",
    "\n",
    "%matplotlib inline\n",
    "\n",
    "pd.set_option('display.max_column', 500)\n",
    "pd.set_option('display.max_rows', 5000)\n",
    "random.seed(1001)"
   ]
  },
  {
   "cell_type": "markdown",
   "id": "b25cb6bb-9d36-41ef-a1b8-3cc52b6ed577",
   "metadata": {},
   "source": [
    "### 資料說明\n",
    "\n",
    "* 包含新北市, 台北市, 高雄市, 桃園市, 台中市房價資料\n",
    "* 單價: 新台幣/坪，經過線性轉換，只有相對大小有意義。\n",
    "* 建物面積、車位面積、陽台面積、附屬建物面積經過線性轉換，只有相對大小有意義。\n",
    "* 橫坐標、縱坐標經過平移處理。\n",
    "\n",
    "注意: 原資料提供者為避免法律爭議而進行資料轉換。這件事在一般統計學習與機器學習專案中需審慎為之。務必了解資料轉換對專案目標的影響。"
   ]
  },
  {
   "cell_type": "code",
   "execution_count": 2,
   "id": "96807b40-a99e-4b74-ad32-92e5ef61a029",
   "metadata": {},
   "outputs": [
    {
     "name": "stdout",
     "output_type": "stream",
     "text": [
      "Training df shape = (8140, 21); test df shape = (1031, 21)\n"
     ]
    }
   ],
   "source": [
    "# training data\n",
    "dftrain = pd.read_csv('./housing_5cities_train.csv')\n",
    "# test data\n",
    "dftesta = pd.read_csv('./housing_5cities_testa.csv')\n",
    "print(f\"Training df shape = {dftrain.shape}; test df shape = {dftesta.shape}\")"
   ]
  },
  {
   "cell_type": "code",
   "execution_count": 3,
   "id": "e1977a8d-44f8-4b2e-bea2-49b92fb3bce8",
   "metadata": {},
   "outputs": [
    {
     "data": {
      "text/html": [
       "<div>\n",
       "<style scoped>\n",
       "    .dataframe tbody tr th:only-of-type {\n",
       "        vertical-align: middle;\n",
       "    }\n",
       "\n",
       "    .dataframe tbody tr th {\n",
       "        vertical-align: top;\n",
       "    }\n",
       "\n",
       "    .dataframe thead th {\n",
       "        text-align: right;\n",
       "    }\n",
       "</style>\n",
       "<table border=\"1\" class=\"dataframe\">\n",
       "  <thead>\n",
       "    <tr style=\"text-align: right;\">\n",
       "      <th></th>\n",
       "      <th>縣市</th>\n",
       "      <th>鄉鎮市區</th>\n",
       "      <th>路名</th>\n",
       "      <th>土地面積</th>\n",
       "      <th>使用分區</th>\n",
       "      <th>移轉層次</th>\n",
       "      <th>總樓層數</th>\n",
       "      <th>主要用途</th>\n",
       "      <th>主要建材</th>\n",
       "      <th>建物型態</th>\n",
       "      <th>屋齡</th>\n",
       "      <th>建物面積</th>\n",
       "      <th>車位面積</th>\n",
       "      <th>車位個數</th>\n",
       "      <th>橫坐標</th>\n",
       "      <th>縱坐標</th>\n",
       "      <th>備註</th>\n",
       "      <th>主建物面積</th>\n",
       "      <th>陽台面積</th>\n",
       "      <th>附屬建物面積</th>\n",
       "      <th>單價</th>\n",
       "    </tr>\n",
       "  </thead>\n",
       "  <tbody>\n",
       "    <tr>\n",
       "      <th>0</th>\n",
       "      <td>台北市</td>\n",
       "      <td>大安區</td>\n",
       "      <td>敦化南路二段</td>\n",
       "      <td>-0.256716</td>\n",
       "      <td>NaN</td>\n",
       "      <td>11</td>\n",
       "      <td>11</td>\n",
       "      <td>住家用</td>\n",
       "      <td>鋼筋混凝土造</td>\n",
       "      <td>住宅大樓(11層含以上有電梯)</td>\n",
       "      <td>32.583333</td>\n",
       "      <td>-0.174154</td>\n",
       "      <td>-0.819326</td>\n",
       "      <td>0.0</td>\n",
       "      <td>305266</td>\n",
       "      <td>2768378</td>\n",
       "      <td>NaN</td>\n",
       "      <td>0.393926</td>\n",
       "      <td>0.183700</td>\n",
       "      <td>-0.438452</td>\n",
       "      <td>4.627714</td>\n",
       "    </tr>\n",
       "    <tr>\n",
       "      <th>1</th>\n",
       "      <td>高雄市</td>\n",
       "      <td>鳳山區</td>\n",
       "      <td>北忠街</td>\n",
       "      <td>0.181921</td>\n",
       "      <td>NaN</td>\n",
       "      <td>10</td>\n",
       "      <td>15</td>\n",
       "      <td>集合住宅</td>\n",
       "      <td>其他</td>\n",
       "      <td>住宅大樓(11層含以上有電梯)</td>\n",
       "      <td>6.166667</td>\n",
       "      <td>0.423366</td>\n",
       "      <td>0.161624</td>\n",
       "      <td>1.0</td>\n",
       "      <td>184815</td>\n",
       "      <td>2504666</td>\n",
       "      <td>NaN</td>\n",
       "      <td>-0.098871</td>\n",
       "      <td>-0.360620</td>\n",
       "      <td>1.525881</td>\n",
       "      <td>1.489072</td>\n",
       "    </tr>\n",
       "    <tr>\n",
       "      <th>2</th>\n",
       "      <td>新北市</td>\n",
       "      <td>新莊區</td>\n",
       "      <td>福前街</td>\n",
       "      <td>0.085594</td>\n",
       "      <td>NaN</td>\n",
       "      <td>9</td>\n",
       "      <td>14</td>\n",
       "      <td>集合住宅</td>\n",
       "      <td>鋼筋混凝土造</td>\n",
       "      <td>住宅大樓(11層含以上有電梯)</td>\n",
       "      <td>8.833333</td>\n",
       "      <td>0.164249</td>\n",
       "      <td>0.524653</td>\n",
       "      <td>1.0</td>\n",
       "      <td>296653</td>\n",
       "      <td>2772355</td>\n",
       "      <td>NaN</td>\n",
       "      <td>-0.071147</td>\n",
       "      <td>0.315088</td>\n",
       "      <td>0.231984</td>\n",
       "      <td>2.051217</td>\n",
       "    </tr>\n",
       "    <tr>\n",
       "      <th>3</th>\n",
       "      <td>台北市</td>\n",
       "      <td>萬華區</td>\n",
       "      <td>國興路</td>\n",
       "      <td>0.260510</td>\n",
       "      <td>NaN</td>\n",
       "      <td>2</td>\n",
       "      <td>12</td>\n",
       "      <td>住家用</td>\n",
       "      <td>鋼筋混凝土造</td>\n",
       "      <td>住宅大樓(11層含以上有電梯)</td>\n",
       "      <td>39.333333</td>\n",
       "      <td>-0.411438</td>\n",
       "      <td>-0.819326</td>\n",
       "      <td>0.0</td>\n",
       "      <td>301365</td>\n",
       "      <td>2768583</td>\n",
       "      <td>NaN</td>\n",
       "      <td>-0.371295</td>\n",
       "      <td>-0.618277</td>\n",
       "      <td>-0.438452</td>\n",
       "      <td>2.238599</td>\n",
       "    </tr>\n",
       "    <tr>\n",
       "      <th>4</th>\n",
       "      <td>新北市</td>\n",
       "      <td>樹林區</td>\n",
       "      <td>信義街</td>\n",
       "      <td>0.856422</td>\n",
       "      <td>NaN</td>\n",
       "      <td>2</td>\n",
       "      <td>4</td>\n",
       "      <td>住家用</td>\n",
       "      <td>鋼筋混凝土造</td>\n",
       "      <td>公寓(5樓含以下無電梯)</td>\n",
       "      <td>46.000000</td>\n",
       "      <td>-0.868770</td>\n",
       "      <td>-0.819326</td>\n",
       "      <td>0.0</td>\n",
       "      <td>292687</td>\n",
       "      <td>2763850</td>\n",
       "      <td>NaN</td>\n",
       "      <td>-0.245408</td>\n",
       "      <td>-1.642077</td>\n",
       "      <td>-0.438452</td>\n",
       "      <td>1.348536</td>\n",
       "    </tr>\n",
       "    <tr>\n",
       "      <th>...</th>\n",
       "      <td>...</td>\n",
       "      <td>...</td>\n",
       "      <td>...</td>\n",
       "      <td>...</td>\n",
       "      <td>...</td>\n",
       "      <td>...</td>\n",
       "      <td>...</td>\n",
       "      <td>...</td>\n",
       "      <td>...</td>\n",
       "      <td>...</td>\n",
       "      <td>...</td>\n",
       "      <td>...</td>\n",
       "      <td>...</td>\n",
       "      <td>...</td>\n",
       "      <td>...</td>\n",
       "      <td>...</td>\n",
       "      <td>...</td>\n",
       "      <td>...</td>\n",
       "      <td>...</td>\n",
       "      <td>...</td>\n",
       "      <td>...</td>\n",
       "    </tr>\n",
       "    <tr>\n",
       "      <th>8135</th>\n",
       "      <td>台北市</td>\n",
       "      <td>內湖區</td>\n",
       "      <td>陽光街</td>\n",
       "      <td>0.544299</td>\n",
       "      <td>NaN</td>\n",
       "      <td>5</td>\n",
       "      <td>5</td>\n",
       "      <td>住家用</td>\n",
       "      <td>鋼筋混凝土造</td>\n",
       "      <td>公寓(5樓含以下無電梯)</td>\n",
       "      <td>39.166667</td>\n",
       "      <td>-0.378115</td>\n",
       "      <td>-0.819326</td>\n",
       "      <td>0.0</td>\n",
       "      <td>309040</td>\n",
       "      <td>2774177</td>\n",
       "      <td>NaN</td>\n",
       "      <td>0.241730</td>\n",
       "      <td>0.233184</td>\n",
       "      <td>-0.438452</td>\n",
       "      <td>2.660207</td>\n",
       "    </tr>\n",
       "    <tr>\n",
       "      <th>8136</th>\n",
       "      <td>新北市</td>\n",
       "      <td>新莊區</td>\n",
       "      <td>幸福東路</td>\n",
       "      <td>1.390665</td>\n",
       "      <td>NaN</td>\n",
       "      <td>3</td>\n",
       "      <td>25</td>\n",
       "      <td>集合住宅</td>\n",
       "      <td>鋼骨造</td>\n",
       "      <td>住宅大樓(11層含以上有電梯)</td>\n",
       "      <td>1.166667</td>\n",
       "      <td>2.090101</td>\n",
       "      <td>3.220335</td>\n",
       "      <td>2.0</td>\n",
       "      <td>296674</td>\n",
       "      <td>2771379</td>\n",
       "      <td>NaN</td>\n",
       "      <td>1.548971</td>\n",
       "      <td>0.516435</td>\n",
       "      <td>1.143690</td>\n",
       "      <td>2.613362</td>\n",
       "    </tr>\n",
       "    <tr>\n",
       "      <th>8137</th>\n",
       "      <td>桃園市</td>\n",
       "      <td>八德區</td>\n",
       "      <td>介壽路二段</td>\n",
       "      <td>0.706189</td>\n",
       "      <td>其他</td>\n",
       "      <td>4</td>\n",
       "      <td>5</td>\n",
       "      <td>住家用</td>\n",
       "      <td>鋼筋混凝土造</td>\n",
       "      <td>公寓(5樓含以下無電梯)</td>\n",
       "      <td>28.333333</td>\n",
       "      <td>-0.271825</td>\n",
       "      <td>0.484488</td>\n",
       "      <td>1.0</td>\n",
       "      <td>280165</td>\n",
       "      <td>2758675</td>\n",
       "      <td>NaN</td>\n",
       "      <td>0.146962</td>\n",
       "      <td>-0.181455</td>\n",
       "      <td>-0.171559</td>\n",
       "      <td>0.903505</td>\n",
       "    </tr>\n",
       "    <tr>\n",
       "      <th>8138</th>\n",
       "      <td>新北市</td>\n",
       "      <td>土城區</td>\n",
       "      <td>學士路</td>\n",
       "      <td>-1.147111</td>\n",
       "      <td>NaN</td>\n",
       "      <td>12</td>\n",
       "      <td>16</td>\n",
       "      <td>住家用</td>\n",
       "      <td>鋼筋混凝土造</td>\n",
       "      <td>住宅大樓(11層含以上有電梯)</td>\n",
       "      <td>25.083333</td>\n",
       "      <td>-1.199130</td>\n",
       "      <td>-0.819326</td>\n",
       "      <td>0.0</td>\n",
       "      <td>295794</td>\n",
       "      <td>2763966</td>\n",
       "      <td>NaN</td>\n",
       "      <td>-1.333408</td>\n",
       "      <td>-0.708713</td>\n",
       "      <td>-0.438452</td>\n",
       "      <td>2.285444</td>\n",
       "    </tr>\n",
       "    <tr>\n",
       "      <th>8139</th>\n",
       "      <td>新北市</td>\n",
       "      <td>三重區</td>\n",
       "      <td>大同南路</td>\n",
       "      <td>-0.398154</td>\n",
       "      <td>NaN</td>\n",
       "      <td>11</td>\n",
       "      <td>27</td>\n",
       "      <td>集合住宅</td>\n",
       "      <td>鋼骨造</td>\n",
       "      <td>住宅大樓(11層含以上有電梯)</td>\n",
       "      <td>2.250000</td>\n",
       "      <td>1.217378</td>\n",
       "      <td>0.442779</td>\n",
       "      <td>1.0</td>\n",
       "      <td>300173</td>\n",
       "      <td>2772198</td>\n",
       "      <td>NaN</td>\n",
       "      <td>0.823638</td>\n",
       "      <td>0.968614</td>\n",
       "      <td>-0.438452</td>\n",
       "      <td>2.660207</td>\n",
       "    </tr>\n",
       "  </tbody>\n",
       "</table>\n",
       "<p>8140 rows × 21 columns</p>\n",
       "</div>"
      ],
      "text/plain": [
       "       縣市 鄉鎮市區      路名      土地面積 使用分區  移轉層次  總樓層數  主要用途    主要建材  \\\n",
       "0     台北市  大安區  敦化南路二段 -0.256716  NaN    11    11   住家用  鋼筋混凝土造   \n",
       "1     高雄市  鳳山區     北忠街  0.181921  NaN    10    15  集合住宅      其他   \n",
       "2     新北市  新莊區     福前街  0.085594  NaN     9    14  集合住宅  鋼筋混凝土造   \n",
       "3     台北市  萬華區     國興路  0.260510  NaN     2    12   住家用  鋼筋混凝土造   \n",
       "4     新北市  樹林區     信義街  0.856422  NaN     2     4   住家用  鋼筋混凝土造   \n",
       "...   ...  ...     ...       ...  ...   ...   ...   ...     ...   \n",
       "8135  台北市  內湖區     陽光街  0.544299  NaN     5     5   住家用  鋼筋混凝土造   \n",
       "8136  新北市  新莊區    幸福東路  1.390665  NaN     3    25  集合住宅     鋼骨造   \n",
       "8137  桃園市  八德區   介壽路二段  0.706189   其他     4     5   住家用  鋼筋混凝土造   \n",
       "8138  新北市  土城區     學士路 -1.147111  NaN    12    16   住家用  鋼筋混凝土造   \n",
       "8139  新北市  三重區    大同南路 -0.398154  NaN    11    27  集合住宅     鋼骨造   \n",
       "\n",
       "                 建物型態         屋齡      建物面積      車位面積  車位個數     橫坐標      縱坐標  \\\n",
       "0     住宅大樓(11層含以上有電梯)  32.583333 -0.174154 -0.819326   0.0  305266  2768378   \n",
       "1     住宅大樓(11層含以上有電梯)   6.166667  0.423366  0.161624   1.0  184815  2504666   \n",
       "2     住宅大樓(11層含以上有電梯)   8.833333  0.164249  0.524653   1.0  296653  2772355   \n",
       "3     住宅大樓(11層含以上有電梯)  39.333333 -0.411438 -0.819326   0.0  301365  2768583   \n",
       "4        公寓(5樓含以下無電梯)  46.000000 -0.868770 -0.819326   0.0  292687  2763850   \n",
       "...               ...        ...       ...       ...   ...     ...      ...   \n",
       "8135     公寓(5樓含以下無電梯)  39.166667 -0.378115 -0.819326   0.0  309040  2774177   \n",
       "8136  住宅大樓(11層含以上有電梯)   1.166667  2.090101  3.220335   2.0  296674  2771379   \n",
       "8137     公寓(5樓含以下無電梯)  28.333333 -0.271825  0.484488   1.0  280165  2758675   \n",
       "8138  住宅大樓(11層含以上有電梯)  25.083333 -1.199130 -0.819326   0.0  295794  2763966   \n",
       "8139  住宅大樓(11層含以上有電梯)   2.250000  1.217378  0.442779   1.0  300173  2772198   \n",
       "\n",
       "       備註     主建物面積      陽台面積    附屬建物面積        單價  \n",
       "0     NaN  0.393926  0.183700 -0.438452  4.627714  \n",
       "1     NaN -0.098871 -0.360620  1.525881  1.489072  \n",
       "2     NaN -0.071147  0.315088  0.231984  2.051217  \n",
       "3     NaN -0.371295 -0.618277 -0.438452  2.238599  \n",
       "4     NaN -0.245408 -1.642077 -0.438452  1.348536  \n",
       "...   ...       ...       ...       ...       ...  \n",
       "8135  NaN  0.241730  0.233184 -0.438452  2.660207  \n",
       "8136  NaN  1.548971  0.516435  1.143690  2.613362  \n",
       "8137  NaN  0.146962 -0.181455 -0.171559  0.903505  \n",
       "8138  NaN -1.333408 -0.708713 -0.438452  2.285444  \n",
       "8139  NaN  0.823638  0.968614 -0.438452  2.660207  \n",
       "\n",
       "[8140 rows x 21 columns]"
      ]
     },
     "execution_count": 3,
     "metadata": {},
     "output_type": "execute_result"
    }
   ],
   "source": [
    "dftrain"
   ]
  },
  {
   "cell_type": "code",
   "execution_count": 4,
   "id": "29d5415b-7623-4f84-9842-285e0ad11942",
   "metadata": {},
   "outputs": [
    {
     "data": {
      "text/html": [
       "<div>\n",
       "<style scoped>\n",
       "    .dataframe tbody tr th:only-of-type {\n",
       "        vertical-align: middle;\n",
       "    }\n",
       "\n",
       "    .dataframe tbody tr th {\n",
       "        vertical-align: top;\n",
       "    }\n",
       "\n",
       "    .dataframe thead th {\n",
       "        text-align: right;\n",
       "    }\n",
       "</style>\n",
       "<table border=\"1\" class=\"dataframe\">\n",
       "  <thead>\n",
       "    <tr style=\"text-align: right;\">\n",
       "      <th></th>\n",
       "      <th>土地面積</th>\n",
       "      <th>移轉層次</th>\n",
       "      <th>總樓層數</th>\n",
       "      <th>屋齡</th>\n",
       "      <th>建物面積</th>\n",
       "      <th>車位面積</th>\n",
       "      <th>車位個數</th>\n",
       "      <th>橫坐標</th>\n",
       "      <th>縱坐標</th>\n",
       "      <th>主建物面積</th>\n",
       "      <th>陽台面積</th>\n",
       "      <th>附屬建物面積</th>\n",
       "      <th>單價</th>\n",
       "    </tr>\n",
       "  </thead>\n",
       "  <tbody>\n",
       "    <tr>\n",
       "      <th>count</th>\n",
       "      <td>8140.000000</td>\n",
       "      <td>8140.000000</td>\n",
       "      <td>8140.000000</td>\n",
       "      <td>8140.000000</td>\n",
       "      <td>8140.000000</td>\n",
       "      <td>8140.000000</td>\n",
       "      <td>8140.000000</td>\n",
       "      <td>8140.000000</td>\n",
       "      <td>8.140000e+03</td>\n",
       "      <td>8140.000000</td>\n",
       "      <td>8140.000000</td>\n",
       "      <td>8140.000000</td>\n",
       "      <td>8140.000000</td>\n",
       "    </tr>\n",
       "    <tr>\n",
       "      <th>mean</th>\n",
       "      <td>-0.000685</td>\n",
       "      <td>7.431818</td>\n",
       "      <td>12.571376</td>\n",
       "      <td>22.164281</td>\n",
       "      <td>0.018220</td>\n",
       "      <td>0.001344</td>\n",
       "      <td>0.617199</td>\n",
       "      <td>273558.099017</td>\n",
       "      <td>2.725461e+06</td>\n",
       "      <td>0.026784</td>\n",
       "      <td>0.026401</td>\n",
       "      <td>0.032724</td>\n",
       "      <td>2.087195</td>\n",
       "    </tr>\n",
       "    <tr>\n",
       "      <th>std</th>\n",
       "      <td>1.087028</td>\n",
       "      <td>5.097901</td>\n",
       "      <td>6.906708</td>\n",
       "      <td>14.623925</td>\n",
       "      <td>1.090130</td>\n",
       "      <td>1.034322</td>\n",
       "      <td>0.679794</td>\n",
       "      <td>44740.087322</td>\n",
       "      <td>8.998772e+04</td>\n",
       "      <td>1.089884</td>\n",
       "      <td>1.082033</td>\n",
       "      <td>1.243377</td>\n",
       "      <td>1.008621</td>\n",
       "    </tr>\n",
       "    <tr>\n",
       "      <th>min</th>\n",
       "      <td>-1.613242</td>\n",
       "      <td>2.000000</td>\n",
       "      <td>2.000000</td>\n",
       "      <td>0.000000</td>\n",
       "      <td>-1.788606</td>\n",
       "      <td>-0.819326</td>\n",
       "      <td>0.000000</td>\n",
       "      <td>175366.000000</td>\n",
       "      <td>2.495675e+06</td>\n",
       "      <td>-2.070340</td>\n",
       "      <td>-1.642077</td>\n",
       "      <td>-0.438452</td>\n",
       "      <td>0.177415</td>\n",
       "    </tr>\n",
       "    <tr>\n",
       "      <th>25%</th>\n",
       "      <td>-0.658185</td>\n",
       "      <td>4.000000</td>\n",
       "      <td>7.000000</td>\n",
       "      <td>8.833333</td>\n",
       "      <td>-0.635508</td>\n",
       "      <td>-0.819326</td>\n",
       "      <td>0.000000</td>\n",
       "      <td>272150.000000</td>\n",
       "      <td>2.758728e+06</td>\n",
       "      <td>-0.622573</td>\n",
       "      <td>-0.637473</td>\n",
       "      <td>-0.438452</td>\n",
       "      <td>1.395381</td>\n",
       "    </tr>\n",
       "    <tr>\n",
       "      <th>50%</th>\n",
       "      <td>-0.171048</td>\n",
       "      <td>6.000000</td>\n",
       "      <td>12.000000</td>\n",
       "      <td>22.500000</td>\n",
       "      <td>-0.216670</td>\n",
       "      <td>-0.538172</td>\n",
       "      <td>1.000000</td>\n",
       "      <td>295689.000000</td>\n",
       "      <td>2.767386e+06</td>\n",
       "      <td>-0.149791</td>\n",
       "      <td>-0.070544</td>\n",
       "      <td>-0.438452</td>\n",
       "      <td>1.816990</td>\n",
       "    </tr>\n",
       "    <tr>\n",
       "      <th>75%</th>\n",
       "      <td>0.384950</td>\n",
       "      <td>10.000000</td>\n",
       "      <td>15.000000</td>\n",
       "      <td>33.500000</td>\n",
       "      <td>0.332158</td>\n",
       "      <td>0.674885</td>\n",
       "      <td>1.000000</td>\n",
       "      <td>302298.750000</td>\n",
       "      <td>2.772287e+06</td>\n",
       "      <td>0.404393</td>\n",
       "      <td>0.474203</td>\n",
       "      <td>0.144443</td>\n",
       "      <td>2.519671</td>\n",
       "    </tr>\n",
       "    <tr>\n",
       "      <th>max</th>\n",
       "      <td>19.475175</td>\n",
       "      <td>46.000000</td>\n",
       "      <td>68.000000</td>\n",
       "      <td>60.083333</td>\n",
       "      <td>9.181627</td>\n",
       "      <td>9.221895</td>\n",
       "      <td>3.000000</td>\n",
       "      <td>326906.000000</td>\n",
       "      <td>2.790801e+06</td>\n",
       "      <td>10.800366</td>\n",
       "      <td>13.842902</td>\n",
       "      <td>33.713188</td>\n",
       "      <td>11.326608</td>\n",
       "    </tr>\n",
       "  </tbody>\n",
       "</table>\n",
       "</div>"
      ],
      "text/plain": [
       "              土地面積         移轉層次         總樓層數           屋齡         建物面積  \\\n",
       "count  8140.000000  8140.000000  8140.000000  8140.000000  8140.000000   \n",
       "mean     -0.000685     7.431818    12.571376    22.164281     0.018220   \n",
       "std       1.087028     5.097901     6.906708    14.623925     1.090130   \n",
       "min      -1.613242     2.000000     2.000000     0.000000    -1.788606   \n",
       "25%      -0.658185     4.000000     7.000000     8.833333    -0.635508   \n",
       "50%      -0.171048     6.000000    12.000000    22.500000    -0.216670   \n",
       "75%       0.384950    10.000000    15.000000    33.500000     0.332158   \n",
       "max      19.475175    46.000000    68.000000    60.083333     9.181627   \n",
       "\n",
       "              車位面積         車位個數            橫坐標           縱坐標        主建物面積  \\\n",
       "count  8140.000000  8140.000000    8140.000000  8.140000e+03  8140.000000   \n",
       "mean      0.001344     0.617199  273558.099017  2.725461e+06     0.026784   \n",
       "std       1.034322     0.679794   44740.087322  8.998772e+04     1.089884   \n",
       "min      -0.819326     0.000000  175366.000000  2.495675e+06    -2.070340   \n",
       "25%      -0.819326     0.000000  272150.000000  2.758728e+06    -0.622573   \n",
       "50%      -0.538172     1.000000  295689.000000  2.767386e+06    -0.149791   \n",
       "75%       0.674885     1.000000  302298.750000  2.772287e+06     0.404393   \n",
       "max       9.221895     3.000000  326906.000000  2.790801e+06    10.800366   \n",
       "\n",
       "              陽台面積       附屬建物面積           單價  \n",
       "count  8140.000000  8140.000000  8140.000000  \n",
       "mean      0.026401     0.032724     2.087195  \n",
       "std       1.082033     1.243377     1.008621  \n",
       "min      -1.642077    -0.438452     0.177415  \n",
       "25%      -0.637473    -0.438452     1.395381  \n",
       "50%      -0.070544    -0.438452     1.816990  \n",
       "75%       0.474203     0.144443     2.519671  \n",
       "max      13.842902    33.713188    11.326608  "
      ]
     },
     "execution_count": 4,
     "metadata": {},
     "output_type": "execute_result"
    }
   ],
   "source": [
    "# Summary statistics\n",
    "dftrain.describe()"
   ]
  },
  {
   "cell_type": "markdown",
   "id": "d25ea450-6312-4114-a0c3-77c5072470fd",
   "metadata": {},
   "source": [
    "可以很明確地看到土地面積、建物面積、車位面積、主建物面積、陽台面積、單價有被標準化的痕跡。\n",
    "\n",
    "---"
   ]
  },
  {
   "cell_type": "markdown",
   "id": "473fc29e-eb85-4c2c-85a1-b9be2b3adb27",
   "metadata": {},
   "source": [
    "Exploratory Data Analysis (EDA)不是這個練習的重點，因此選擇性的畫個圖看一下。"
   ]
  },
  {
   "cell_type": "code",
   "execution_count": 5,
   "id": "8f85f321-6a67-4283-a11e-375f6a694559",
   "metadata": {},
   "outputs": [
    {
     "data": {
      "text/plain": [
       "<Axes: xlabel='縣市', ylabel='單價'>"
      ]
     },
     "execution_count": 5,
     "metadata": {},
     "output_type": "execute_result"
    },
    {
     "name": "stderr",
     "output_type": "stream",
     "text": [
      "/opt/homebrew/Caskroom/miniconda/base/lib/python3.12/site-packages/IPython/core/events.py:82: UserWarning: Glyph 22290 (\\N{CJK UNIFIED IDEOGRAPH-5712}) missing from font(s) Songti SC.\n",
      "  func(*args, **kwargs)\n",
      "/opt/homebrew/Caskroom/miniconda/base/lib/python3.12/site-packages/IPython/core/events.py:82: UserWarning: Glyph 32291 (\\N{CJK UNIFIED IDEOGRAPH-7E23}) missing from font(s) Songti SC.\n",
      "  func(*args, **kwargs)\n",
      "/opt/homebrew/Caskroom/miniconda/base/lib/python3.12/site-packages/IPython/core/events.py:82: UserWarning: Glyph 21934 (\\N{CJK UNIFIED IDEOGRAPH-55AE}) missing from font(s) Songti SC.\n",
      "  func(*args, **kwargs)\n",
      "/opt/homebrew/Caskroom/miniconda/base/lib/python3.12/site-packages/IPython/core/events.py:82: UserWarning: Glyph 20729 (\\N{CJK UNIFIED IDEOGRAPH-50F9}) missing from font(s) Songti SC.\n",
      "  func(*args, **kwargs)\n",
      "/opt/homebrew/Caskroom/miniconda/base/lib/python3.12/site-packages/IPython/core/pylabtools.py:170: UserWarning: Glyph 22290 (\\N{CJK UNIFIED IDEOGRAPH-5712}) missing from font(s) Songti SC.\n",
      "  fig.canvas.print_figure(bytes_io, **kw)\n",
      "/opt/homebrew/Caskroom/miniconda/base/lib/python3.12/site-packages/IPython/core/pylabtools.py:170: UserWarning: Glyph 32291 (\\N{CJK UNIFIED IDEOGRAPH-7E23}) missing from font(s) Songti SC.\n",
      "  fig.canvas.print_figure(bytes_io, **kw)\n",
      "/opt/homebrew/Caskroom/miniconda/base/lib/python3.12/site-packages/IPython/core/pylabtools.py:170: UserWarning: Glyph 21934 (\\N{CJK UNIFIED IDEOGRAPH-55AE}) missing from font(s) Songti SC.\n",
      "  fig.canvas.print_figure(bytes_io, **kw)\n",
      "/opt/homebrew/Caskroom/miniconda/base/lib/python3.12/site-packages/IPython/core/pylabtools.py:170: UserWarning: Glyph 20729 (\\N{CJK UNIFIED IDEOGRAPH-50F9}) missing from font(s) Songti SC.\n",
      "  fig.canvas.print_figure(bytes_io, **kw)\n"
     ]
    },
    {
     "data": {
      "image/png": "[encoded data removed]",
      "text/plain": [
       "<Figure size 640x480 with 1 Axes>"
      ]
     },
     "metadata": {},
     "output_type": "display_data"
    }
   ],
   "source": [
    "# 確保中文能正常顯示\n",
    "sns.set(font=\"Songti SC\")\n",
    "sns.boxplot(dftrain, x = \"縣市\", y = \"單價\")"
   ]
  },
  {
   "cell_type": "markdown",
   "id": "97abb9b5-baf9-4a12-98d6-1883b65079b8",
   "metadata": {},
   "source": [
    "### Fit a linear model;\n",
    "Recall that the closed form solution for linear regression coefficient is:\n",
    "\n",
    "$\\hat{\\beta} = (X^T X)^{-1} X^T y$\n",
    "\n",
    "You may need to leverage the following methods:\n",
    "* df.to_numpy\n",
    "* numpy.linalg.inv or numpy.linalg.solve\n",
    "* numpy.matmul or @\n",
    "* numpy.ones\n",
    "* numpy.hstack\n"
   ]
  },
  {
   "cell_type": "code",
   "execution_count": 6,
   "id": "a5f07c08-3592-4bb8-8276-950b79b759ce",
   "metadata": {},
   "outputs": [],
   "source": [
    "# TODO\n",
    "def fit_linear_reg(X_train, y_train):\n",
    "    # implement the closed form solution for linear regression\n",
    "    # return the fitted coefficients\n",
    "    # remember to add a column of ones first\n",
    "    \n",
    "    # Add a column of ones for the intercept term\n",
    "    X_with_intercept = np.hstack([np.ones((X_train.shape[0], 1)), X_train])\n",
    "    \n",
    "    # Closed form solution: β̂ = (X^T X)^(-1) X^T y\n",
    "    XTX = np.matmul(X_with_intercept.T, X_with_intercept)\n",
    "    XTX_inv = np.linalg.inv(XTX)\n",
    "    XTy = np.matmul(X_with_intercept.T, y_train)\n",
    "    beta = np.matmul(XTX_inv, XTy)\n",
    "    \n",
    "    return beta"
   ]
  },
  {
   "cell_type": "code",
   "execution_count": 7,
   "id": "09a4ae37-dac6-4031-a89d-ddedd114bfcc",
   "metadata": {},
   "outputs": [
    {
     "name": "stdout",
     "output_type": "stream",
     "text": [
      "Const.\t1.8937\n",
      "建物面積\t0.0454\n",
      "總樓層數\t0.0042\n",
      "屋齡\t0.0063\n"
     ]
    }
   ],
   "source": [
    "numfeatures = ['建物面積', '總樓層數', '屋齡']\n",
    "label = '單價'\n",
    "X_train = dftrain[numfeatures].to_numpy()\n",
    "y_train = dftrain[label].to_numpy()\n",
    "X_test = dftesta[numfeatures].to_numpy()\n",
    "y_test = dftesta[label].to_numpy()\n",
    "\n",
    "beta_head = fit_linear_reg(X_train, y_train)\n",
    "\n",
    "for abeta, aname in zip(beta_head, ['Const.'] + numfeatures):\n",
    "    print(f\"{aname}\\t{abeta:.4f}\")"
   ]
  },
  {
   "cell_type": "markdown",
   "id": "478f7db3-0a29-4bd8-814d-4b507dd07071",
   "metadata": {},
   "source": [
    "### Sanity Check\n",
    "The cell output should be like:\n",
    "<pre>\n",
    "Const.\t1.8937\n",
    "建物面積\t0.0454\n",
    "總樓層數\t0.0042\n",
    "屋齡\t0.0063\n",
    "</pre>"
   ]
  },
  {
   "cell_type": "markdown",
   "id": "9e053911-c2be-4fad-aa80-9460bf2e08e0",
   "metadata": {},
   "source": [
    "### Compute $R^2$"
   ]
  },
  {
   "cell_type": "code",
   "execution_count": 8,
   "id": "c63060c5-793f-423a-b59a-f39ef6533f9a",
   "metadata": {},
   "outputs": [],
   "source": [
    "# TODO\n",
    "def get_r2(X, y, beta):\n",
    "    # Compute R2 given X, y, and beta\n",
    "    # return R2 as a scalar\n",
    "    \n",
    "    # Add intercept column to X (assuming beta includes intercept as first element)\n",
    "    X_with_intercept = np.hstack([np.ones((X.shape[0], 1)), X])\n",
    "    \n",
    "    # Calculate predictions: y_pred = X * beta\n",
    "    y_pred = np.matmul(X_with_intercept, beta)\n",
    "    \n",
    "    # Calculate R² = 1 - (SS_res / SS_tot)\n",
    "    # SS_res = sum of squared residuals\n",
    "    ss_res = np.sum((y - y_pred) ** 2)\n",
    "    \n",
    "    # SS_tot = total sum of squares\n",
    "    ss_tot = np.sum((y - np.mean(y)) ** 2)\n",
    "    \n",
    "    # R² = 1 - (SS_res / SS_tot)\n",
    "    r2 = 1 - (ss_res / ss_tot)\n",
    "    \n",
    "    return r2"
   ]
  },
  {
   "cell_type": "code",
   "execution_count": 9,
   "id": "19acfa74-c74a-4100-a3eb-237a3d290017",
   "metadata": {},
   "outputs": [
    {
     "name": "stdout",
     "output_type": "stream",
     "text": [
      "R2 = 0.0071\n"
     ]
    }
   ],
   "source": [
    "r2 = get_r2(X_train, y_train, beta_head)\n",
    "print(f\"R2 = {r2:.4f}\")"
   ]
  },
  {
   "cell_type": "markdown",
   "id": "02d32b4f-b3e4-4221-b7a5-6b685eefdd25",
   "metadata": {},
   "source": [
    "## Sanity Check\n",
    "The above cell should have an output like this:\n",
    "<pre>\n",
    "R2 = 0.0071\n",
    "</pre>"
   ]
  },
  {
   "cell_type": "markdown",
   "id": "10246920-06bd-4b80-9e47-76886b641bd4",
   "metadata": {},
   "source": [
    "### Extend get_r2 to also compute RMSE, MAE, MAPE"
   ]
  },
  {
   "cell_type": "code",
   "execution_count": 10,
   "id": "1fd68729-a7ec-4c69-85a0-04b79f68876d",
   "metadata": {},
   "outputs": [],
   "source": [
    "# TODO\n",
    "def get_performance(X, y, beta):\n",
    "    # Compute R2, RMSE, MAE, MAPE given X, y, and beta\n",
    "    # return R2, RMSE, MAE, MAPE as a list\n",
    "    \n",
    "    # Add intercept column to X (assuming beta includes intercept as first element)\n",
    "    X_with_intercept = np.hstack([np.ones((X.shape[0], 1)), X])\n",
    "    \n",
    "    # Calculate predictions: y_pred = X * beta\n",
    "    y_pred = np.matmul(X_with_intercept, beta)\n",
    "    \n",
    "    # Calculate R² = 1 - (SS_res / SS_tot)\n",
    "    ss_res = np.sum((y - y_pred) ** 2)\n",
    "    ss_tot = np.sum((y - np.mean(y)) ** 2)\n",
    "    r2 = 1 - (ss_res / ss_tot)\n",
    "    \n",
    "    # Calculate RMSE (Root Mean Square Error)\n",
    "    rmse = np.sqrt(np.mean((y - y_pred) ** 2))\n",
    "    \n",
    "    # Calculate MAE (Mean Absolute Error)\n",
    "    mae = np.mean(np.abs(y - y_pred))\n",
    "    \n",
    "    # Calculate MAPE (Mean Absolute Percentage Error)\n",
    "    # Avoid division by zero by adding small epsilon\n",
    "    epsilon = 1e-8\n",
    "    mape = np.mean(np.abs((y - y_pred) / (y + epsilon)))\n",
    "    \n",
    "    return r2, rmse, mae, mape"
   ]
  },
  {
   "cell_type": "code",
   "execution_count": 11,
   "id": "4a927e73-765d-472b-b823-bee2e68dc440",
   "metadata": {},
   "outputs": [
    {
     "name": "stdout",
     "output_type": "stream",
     "text": [
      "R2 = 0.0071\n",
      "RMSE = 1.0050\n",
      "MAE = 0.7498\n",
      "MAPE = 0.4166\n"
     ]
    }
   ],
   "source": [
    "# performance on training data\n",
    "r2, RMSE, MAE, MAPE = get_performance(X_train, y_train, beta_head)\n",
    "print(f\"R2 = {r2:.4f}\")\n",
    "print(f\"RMSE = {RMSE:.4f}\")\n",
    "print(f\"MAE = {MAE:.4f}\")\n",
    "print(f\"MAPE = {MAPE:.4f}\")"
   ]
  },
  {
   "cell_type": "markdown",
   "id": "4a6946f4-3074-454b-ba53-2b250d4f9958",
   "metadata": {},
   "source": [
    "### Sanity Check\n",
    "The above cell should have an output like this:\n",
    "<pre>\n",
    "R2 = 0.0071\n",
    "RMSE = 1.0050\n",
    "MAE = 0.7498\n",
    "MAPE = 0.4166\n",
    "</pre>"
   ]
  },
  {
   "cell_type": "code",
   "execution_count": 12,
   "id": "03a0d5f2-4ac9-45ef-9b1c-4a7ede54bcc1",
   "metadata": {},
   "outputs": [
    {
     "name": "stdout",
     "output_type": "stream",
     "text": [
      "R2 = 0.0173\n",
      "RMSE = 1.0382\n",
      "MAE = 0.7238\n",
      "MAPE = 0.3965\n"
     ]
    }
   ],
   "source": [
    "# performance on test data\n",
    "r2, RMSE, MAE, MAPE = get_performance(X_test, y_test, beta_head)\n",
    "print(f\"R2 = {r2:.4f}\")\n",
    "print(f\"RMSE = {RMSE:.4f}\")\n",
    "print(f\"MAE = {MAE:.4f}\")\n",
    "print(f\"MAPE = {MAPE:.4f}\")"
   ]
  },
  {
   "cell_type": "markdown",
   "id": "5173b7d4-6d21-410a-b0fe-267bc922e670",
   "metadata": {},
   "source": [
    "### Sanity Check\n",
    "The above cell should have an output like this:\n",
    "<pre>\n",
    "R2 = 0.0173\n",
    "RMSE = 1.0382\n",
    "MAE = 0.7238\n",
    "MAPE = 0.3965\n",
    "</pre>"
   ]
  },
  {
   "cell_type": "markdown",
   "id": "9d6d9f13-be45-4e32-be47-c4e512e6f298",
   "metadata": {},
   "source": [
    "### Deal with categorical features"
   ]
  },
  {
   "cell_type": "code",
   "execution_count": 13,
   "id": "5e56c706-87fd-410d-b083-13fde64d5e77",
   "metadata": {},
   "outputs": [],
   "source": [
    "# TODO\n",
    "def gen_features(dftrain, dftest, numfeatures, catfeatures, enc):\n",
    "    # Generate additional categorical features according to catfeatures\n",
    "    # use enc to help you generate feature one-hot encoding. \n",
    "    # np.hstack will be useful here. \n",
    "    # Arrange numpy array such that numerical features go first, followed by categorical features\n",
    "    # return the feature arrary for training and test data\n",
    "    \n",
    "    # Extract numerical features\n",
    "    X_train_num = dftrain[numfeatures].to_numpy()\n",
    "    X_test_num = dftest[numfeatures].to_numpy()\n",
    "    \n",
    "    # Extract categorical features\n",
    "    X_train_cat = dftrain[catfeatures].to_numpy()\n",
    "    X_test_cat = dftest[catfeatures].to_numpy()\n",
    "    \n",
    "    # Fit the encoder on training data and transform both training and test data\n",
    "    X_train_cat_encoded = enc.fit_transform(X_train_cat).toarray()\n",
    "    X_test_cat_encoded = enc.transform(X_test_cat).toarray()\n",
    "    \n",
    "    # Combine numerical features first, then categorical features\n",
    "    X_train_combined = np.hstack([X_train_num, X_train_cat_encoded])\n",
    "    X_test_combined = np.hstack([X_test_num, X_test_cat_encoded])\n",
    "    \n",
    "    return X_train_combined, X_test_combined\n"
   ]
  },
  {
   "cell_type": "code",
   "execution_count": 14,
   "id": "41924b62-0299-4b1f-879e-9f642128b019",
   "metadata": {},
   "outputs": [
    {
     "name": "stdout",
     "output_type": "stream",
     "text": [
      "Const.\t1.3455\n",
      "建物面積\t0.0095\n",
      "總樓層數\t0.0211\n",
      "屋齡\t-0.0123\n",
      "台北市\t2.2398\n",
      "新北市\t0.6374\n",
      "桃園市\t-0.1296\n",
      "高雄市\t-0.2285\n"
     ]
    }
   ],
   "source": [
    "numfeatures = ['建物面積', '總樓層數', '屋齡']\n",
    "catfeatures = ['縣市']\n",
    "label = '單價'\n",
    "\n",
    "enc = OneHotEncoder(drop=\"first\")\n",
    "X_train2, X_test2 = gen_features(dftrain, dftesta, numfeatures, catfeatures, enc)\n",
    "y_train2 = dftrain[label].to_numpy()\n",
    "y_test2 = dftesta[label].to_numpy()\n",
    "\n",
    "beta_head2 = fit_linear_reg(X_train2, y_train2)\n",
    "\n",
    "featname = ['Const.'] + numfeatures + list(enc.categories_[0][1:])\n",
    "for abeta, aname in zip(beta_head2, featname):\n",
    "    print(f\"{aname}\\t{abeta:.4f}\")"
   ]
  },
  {
   "cell_type": "markdown",
   "id": "b46958d2-882e-424f-a39b-48daaf3a3e26",
   "metadata": {},
   "source": [
    "### Sanity Check\n",
    "The above cell should have an output like this:\n",
    "<pre>\n",
    "Const.\t1.3455\n",
    "建物面積\t0.0095\n",
    "總樓層數\t0.0211\n",
    "屋齡\t-0.0123\n",
    "台北市\t2.2398\n",
    "新北市\t0.6374\n",
    "桃園市\t-0.1296\n",
    "高雄市\t-0.2285\n",
    "</pre>"
   ]
  },
  {
   "cell_type": "code",
   "execution_count": 15,
   "id": "a967c705-6858-478a-9032-193cd0758f08",
   "metadata": {},
   "outputs": [
    {
     "name": "stdout",
     "output_type": "stream",
     "text": [
      "R2 = 0.6715\n",
      "RMSE = 0.5781\n",
      "MAE = 0.3983\n",
      "MAPE = 0.1964\n"
     ]
    }
   ],
   "source": [
    "# Check training performance\n",
    "r2, RMSE, MAE, MAPE = get_performance(X_train2, y_train2, beta_head2)\n",
    "print(f\"R2 = {r2:.4f}\")\n",
    "print(f\"RMSE = {RMSE:.4f}\")\n",
    "print(f\"MAE = {MAE:.4f}\")\n",
    "print(f\"MAPE = {MAPE:.4f}\")"
   ]
  },
  {
   "cell_type": "markdown",
   "id": "bff6957b-7a5c-4c29-854b-aba6172144bb",
   "metadata": {},
   "source": [
    "### Sanity Check\n",
    "The above cell should have an output like this:\n",
    "<pre>\n",
    "R2 = 0.6715\n",
    "RMSE = 0.5781\n",
    "MAE = 0.3983\n",
    "MAPE = 0.1964\n",
    "</pre>"
   ]
  },
  {
   "cell_type": "code",
   "execution_count": 16,
   "id": "82750d81-1760-4366-9c4d-068cb1d5d65f",
   "metadata": {},
   "outputs": [
    {
     "name": "stdout",
     "output_type": "stream",
     "text": [
      "R2 = 0.5937\n",
      "RMSE = 0.6676\n",
      "MAE = 0.4050\n",
      "MAPE = 0.1933\n"
     ]
    }
   ],
   "source": [
    "# Check test performance\n",
    "r2, RMSE, MAE, MAPE = get_performance(X_test2, y_test2, beta_head2)\n",
    "print(f\"R2 = {r2:.4f}\")\n",
    "print(f\"RMSE = {RMSE:.4f}\")\n",
    "print(f\"MAE = {MAE:.4f}\")\n",
    "print(f\"MAPE = {MAPE:.4f}\")"
   ]
  },
  {
   "cell_type": "markdown",
   "id": "d9575147-4929-47aa-b038-118fe4538405",
   "metadata": {},
   "source": [
    "### Sanity Check\n",
    "The above cell should have an output like this:\n",
    "<pre>\n",
    "R2 = 0.5937\n",
    "RMSE = 0.6676\n",
    "MAE = 0.4050\n",
    "MAPE = 0.1933\n",
    "</pre>\n"
   ]
  },
  {
   "cell_type": "markdown",
   "id": "340147f8-44c1-493e-a321-bb8bc7d3350f",
   "metadata": {},
   "source": [
    "### Before closing out today's activity\n",
    "\n",
    "Let's take a look at the locations in our training data.\n",
    "How can we leverage the locations in our models?\n",
    "\n",
    "After all, the most important factors in real estate is: <h3>Location, Location, Location.</h3>"
   ]
  },
  {
   "cell_type": "code",
   "execution_count": 17,
   "id": "a7431c9a-58f9-4dc9-98e1-50e9c60c9b44",
   "metadata": {},
   "outputs": [
    {
     "data": {
      "text/plain": [
       "<Axes: xlabel='橫坐標', ylabel='縱坐標'>"
      ]
     },
     "execution_count": 17,
     "metadata": {},
     "output_type": "execute_result"
    },
    {
     "name": "stderr",
     "output_type": "stream",
     "text": [
      "/opt/homebrew/Caskroom/miniconda/base/lib/python3.12/site-packages/IPython/core/events.py:82: UserWarning: Glyph 27243 (\\N{CJK UNIFIED IDEOGRAPH-6A6B}) missing from font(s) Songti SC.\n",
      "  func(*args, **kwargs)\n",
      "/opt/homebrew/Caskroom/miniconda/base/lib/python3.12/site-packages/IPython/core/events.py:82: UserWarning: Glyph 27161 (\\N{CJK UNIFIED IDEOGRAPH-6A19}) missing from font(s) Songti SC.\n",
      "  func(*args, **kwargs)\n",
      "/opt/homebrew/Caskroom/miniconda/base/lib/python3.12/site-packages/IPython/core/events.py:82: UserWarning: Glyph 32305 (\\N{CJK UNIFIED IDEOGRAPH-7E31}) missing from font(s) Songti SC.\n",
      "  func(*args, **kwargs)\n",
      "/opt/homebrew/Caskroom/miniconda/base/lib/python3.12/site-packages/IPython/core/events.py:82: UserWarning: Glyph 32291 (\\N{CJK UNIFIED IDEOGRAPH-7E23}) missing from font(s) Songti SC.\n",
      "  func(*args, **kwargs)\n",
      "/opt/homebrew/Caskroom/miniconda/base/lib/python3.12/site-packages/IPython/core/events.py:82: UserWarning: Glyph 22290 (\\N{CJK UNIFIED IDEOGRAPH-5712}) missing from font(s) Songti SC.\n",
      "  func(*args, **kwargs)\n",
      "/opt/homebrew/Caskroom/miniconda/base/lib/python3.12/site-packages/IPython/core/pylabtools.py:170: UserWarning: Glyph 27243 (\\N{CJK UNIFIED IDEOGRAPH-6A6B}) missing from font(s) Songti SC.\n",
      "  fig.canvas.print_figure(bytes_io, **kw)\n",
      "/opt/homebrew/Caskroom/miniconda/base/lib/python3.12/site-packages/IPython/core/pylabtools.py:170: UserWarning: Glyph 27161 (\\N{CJK UNIFIED IDEOGRAPH-6A19}) missing from font(s) Songti SC.\n",
      "  fig.canvas.print_figure(bytes_io, **kw)\n",
      "/opt/homebrew/Caskroom/miniconda/base/lib/python3.12/site-packages/IPython/core/pylabtools.py:170: UserWarning: Glyph 32305 (\\N{CJK UNIFIED IDEOGRAPH-7E31}) missing from font(s) Songti SC.\n",
      "  fig.canvas.print_figure(bytes_io, **kw)\n",
      "/opt/homebrew/Caskroom/miniconda/base/lib/python3.12/site-packages/IPython/core/pylabtools.py:170: UserWarning: Glyph 32291 (\\N{CJK UNIFIED IDEOGRAPH-7E23}) missing from font(s) Songti SC.\n",
      "  fig.canvas.print_figure(bytes_io, **kw)\n",
      "/opt/homebrew/Caskroom/miniconda/base/lib/python3.12/site-packages/IPython/core/pylabtools.py:170: UserWarning: Glyph 22290 (\\N{CJK UNIFIED IDEOGRAPH-5712}) missing from font(s) Songti SC.\n",
      "  fig.canvas.print_figure(bytes_io, **kw)\n"
     ]
    },
    {
     "data": {
      "image/png": "[encoded data removed]",
      "text/plain": [
       "<Figure size 640x480 with 1 Axes>"
      ]
     },
     "metadata": {},
     "output_type": "display_data"
    }
   ],
   "source": [
    "sns.scatterplot(dftrain, x=\"橫坐標\", y=\"縱坐標\", hue = \"縣市\")"
   ]
  },
  {
   "cell_type": "code",
   "execution_count": 18,
   "id": "eed92ec3-2f4a-45c4-8cfb-500d322df19b",
   "metadata": {},
   "outputs": [],
   "source": [
    "dftrain_ks = dftrain[dftrain.縣市 == \"高雄市\"]"
   ]
  },
  {
   "cell_type": "code",
   "execution_count": 19,
   "id": "b17dcd95-8836-47cf-b7ba-6dde329d585f",
   "metadata": {},
   "outputs": [
    {
     "data": {
      "text/plain": [
       "<Axes: xlabel='橫坐標', ylabel='縱坐標'>"
      ]
     },
     "execution_count": 19,
     "metadata": {},
     "output_type": "execute_result"
    },
    {
     "name": "stderr",
     "output_type": "stream",
     "text": [
      "/opt/homebrew/Caskroom/miniconda/base/lib/python3.12/site-packages/IPython/core/events.py:82: UserWarning: Glyph 27243 (\\N{CJK UNIFIED IDEOGRAPH-6A6B}) missing from font(s) Songti SC.\n",
      "  func(*args, **kwargs)\n",
      "/opt/homebrew/Caskroom/miniconda/base/lib/python3.12/site-packages/IPython/core/events.py:82: UserWarning: Glyph 27161 (\\N{CJK UNIFIED IDEOGRAPH-6A19}) missing from font(s) Songti SC.\n",
      "  func(*args, **kwargs)\n",
      "/opt/homebrew/Caskroom/miniconda/base/lib/python3.12/site-packages/IPython/core/events.py:82: UserWarning: Glyph 32305 (\\N{CJK UNIFIED IDEOGRAPH-7E31}) missing from font(s) Songti SC.\n",
      "  func(*args, **kwargs)\n",
      "/opt/homebrew/Caskroom/miniconda/base/lib/python3.12/site-packages/IPython/core/events.py:82: UserWarning: Glyph 21934 (\\N{CJK UNIFIED IDEOGRAPH-55AE}) missing from font(s) Songti SC.\n",
      "  func(*args, **kwargs)\n",
      "/opt/homebrew/Caskroom/miniconda/base/lib/python3.12/site-packages/IPython/core/events.py:82: UserWarning: Glyph 20729 (\\N{CJK UNIFIED IDEOGRAPH-50F9}) missing from font(s) Songti SC.\n",
      "  func(*args, **kwargs)\n",
      "/opt/homebrew/Caskroom/miniconda/base/lib/python3.12/site-packages/IPython/core/pylabtools.py:170: UserWarning: Glyph 27243 (\\N{CJK UNIFIED IDEOGRAPH-6A6B}) missing from font(s) Songti SC.\n",
      "  fig.canvas.print_figure(bytes_io, **kw)\n",
      "/opt/homebrew/Caskroom/miniconda/base/lib/python3.12/site-packages/IPython/core/pylabtools.py:170: UserWarning: Glyph 27161 (\\N{CJK UNIFIED IDEOGRAPH-6A19}) missing from font(s) Songti SC.\n",
      "  fig.canvas.print_figure(bytes_io, **kw)\n",
      "/opt/homebrew/Caskroom/miniconda/base/lib/python3.12/site-packages/IPython/core/pylabtools.py:170: UserWarning: Glyph 32305 (\\N{CJK UNIFIED IDEOGRAPH-7E31}) missing from font(s) Songti SC.\n",
      "  fig.canvas.print_figure(bytes_io, **kw)\n",
      "/opt/homebrew/Caskroom/miniconda/base/lib/python3.12/site-packages/IPython/core/pylabtools.py:170: UserWarning: Glyph 21934 (\\N{CJK UNIFIED IDEOGRAPH-55AE}) missing from font(s) Songti SC.\n",
      "  fig.canvas.print_figure(bytes_io, **kw)\n",
      "/opt/homebrew/Caskroom/miniconda/base/lib/python3.12/site-packages/IPython/core/pylabtools.py:170: UserWarning: Glyph 20729 (\\N{CJK UNIFIED IDEOGRAPH-50F9}) missing from font(s) Songti SC.\n",
      "  fig.canvas.print_figure(bytes_io, **kw)\n"
     ]
    },
    {
     "data": {
      "image/png": "[encoded data removed]",
      "text/plain": [
       "<Figure size 640x480 with 1 Axes>"
      ]
     },
     "metadata": {},
     "output_type": "display_data"
    }
   ],
   "source": [
    "sns.scatterplot(dftrain_ks, x=\"橫坐標\", y=\"縱坐標\", hue = \"單價\")"
   ]
  },
  {
   "cell_type": "markdown",
   "id": "5500464d-88e8-48d5-b191-859c8929561a",
   "metadata": {},
   "source": [
    "---- \n",
    "End of File\n",
    "\n",
    "---"
   ]
  }
 ],
 "metadata": {
  "kernelspec": {
   "display_name": "Python 3 (ipykernel)",
   "language": "python",
   "name": "python3"
  },
  "language_info": {
   "codemirror_mode": {
    "name": "ipython",
    "version": 3
   },
   "file_extension": ".py",
   "mimetype": "text/x-python",
   "name": "python",
   "nbconvert_exporter": "python",
   "pygments_lexer": "ipython3",
   "version": "3.12.9"
  }
 },
 "nbformat": 4,
 "nbformat_minor": 5
}
