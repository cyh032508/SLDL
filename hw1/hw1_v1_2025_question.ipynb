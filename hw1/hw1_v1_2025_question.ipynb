{
 "cells": [
  {
   "cell_type": "markdown",
   "metadata": {},
   "source": [
    "### 統計學習與深度學習 (Fall, 2025)\n",
    "### Homework 1\n",
    "\n",
    "請將IPYNB檔與IPYNB Export之HTML檔上傳至COOL作業區。作業自己做。嚴禁抄襲。不接受紙本繳交，不接受遲交。請以英文或中文作答。\n",
    "如無其他規定，所有重要結果應顯示至小數點第四位(四捨五入)。\n"
   ]
  },
  {
   "cell_type": "markdown",
   "metadata": {},
   "source": [
    "### 第一題 [Ridge Regression Baseline]\n",
    "\n",
    "(30%) 以Ridge Regression進行房價預測。盡可能使用scikit-learn的函數與numpy進行實作。Regularizaiton coefficient (alphas)應考慮介於0.01至100之間的數值，且至少應考慮十種可能的數值。\n",
    "\n",
    "本題禁止使用'Auto-SKlearn'或其他'AutoML'工具。\n",
    "\n",
    "訓練資料檔案為'housing_5cities_train.csv', 測試資料檔案為 'housing_5cities_testa.csv'。預測標的為'單價'。你的模型應包含以下特徵:\n",
    "* 建物面積\n",
    "* 總樓層數\n",
    "* 屋齡\n",
    "* 縣市\n",
    "* 鄉鎮市區\n",
    "* 主要用途\n",
    "* 主要建材\n",
    "* 建物型態\n",
    "\n",
    "類別型特徵應進行適當的轉換。\n",
    "\n",
    "(1) 畫出高雄市資料點的分布，橫坐標為x軸，縱坐標為y軸。依照單價將資料點上色。說明你對資料點個觀察。\n",
    "\n",
    "(2) 列出最終選用的Regularization Coefficient，以下模型參數，並報告模型在測試資料的預測能力 (包含R2、RMSE、MAE、MAPE)。\n",
    "* Constant term coefficient\n",
    "* 建物面積\n",
    "* 總樓層數\n",
    "* 屋齡\n",
    "* 台中市\n",
    "* 台北市\n",
    "* 新北市\n",
    "* 桃園市\n",
    "* 高雄市"
   ]
  },
  {
   "cell_type": "markdown",
   "metadata": {},
   "source": [
    "### 第二題 [Gaussian Basis Function]\n",
    "\n",
    "(35%) Gaussian Basis Function (GBF) 常用來擴展特徵。在房價預測中，我們可以挑選某些位置作為GBF的均數，並設定合理的變異數，即可利用GBF識別某筆資料是否為在選定的位置附近。\n",
    "\n",
    "我們在課程中定義過一維情境下計算GBF特徵值的公式為:\n",
    "\n",
    "$exp(- \\frac{(x_a - \\mu_j)^2}{2 s_j^2}), $\n",
    "\n",
    "其中 $x_a$ 為資料點，而 $mu_j$  是選定的錨點 (Anchor)，標準差$s_j$ 是用來控管要訂多寬的區域。\n",
    "\n",
    "房價資料的位置資訊為二維空間，因此如果資料點的位置是 $(x_a, y_a)$, 錨點是 $(\\mu_{xj}, \\mu_{yj})$、標準差是 $(s_{xj}, s_{yj})$，那GBF特徵值為:\n",
    "\n",
    "$exp(- \\frac{(x_a - \\mu_{xj})^2}{2 s_{xj}^2} - \\frac{(y_a - \\mu_{yj})^2}{2 s_{yj}^2} )$\n",
    "\n",
    "(1) \n",
    "\n",
    "這題我們只選擇一個錨點，定義為所有高雄市訓練資料的橫、縱座標平均值。橫軸的標準差取為高雄市訓練資料的 X 座標標準差，縱軸則取為 Y 座標的標準差。利用上面的公式計算 GBF 特徵值。請列出該錨點的座標與標準差，並為所有訓練資料計算 GBF 特徵值，依照縣市輸出描述統計（count, mean, std, min, 25%, 50%, 75%, max）。\n",
    "\n",
    "(2) \n",
    "\n",
    "依照以下方式產生多個錨點，並使用 GBF 生成新的特徵，與 Q1 的所有特徵合併後，建構新的 Ridge Regression 預測模型，並計算其在測試資料上的預測能力（包含 R²、RMSE、MAE、MAPE）。\n",
    "\n",
    "Regularizaiton coefficient (alphas)應考慮介於 0.01 至 100 之間的數值，且至少應考慮十種可能的數值。對每個城市 C，找出能包含所有資料點的邊界矩形，並將橫軸與縱軸各切成 $K$ 等分，形成 $K^2$ 個格子。若一個格子內有不少於 20 筆資料，則計算該格子內所有資料點的橫、縱座標平均值作為中心點，橫、縱座標的標準差作為尺度，定義為一個錨點；若一個格子內的資料點少於 20，則忽略該格子。請列出各縣市所產生的錨點。設 $K$ = 3，請計算模型在測試資料上的 R²、RMSE、MAE、MAPE，並與 Q1 baseline 結果比較。\n",
    "\n"
   ]
  },
  {
   "cell_type": "markdown",
   "metadata": {},
   "source": [
    "### 第三題 [Sigmoidal Basis Features]\n",
    "\n",
    "(35%) \n",
    "\n",
    "(1) \n",
    "\n",
    "對每個數值特徵 $x$（建物面積、總樓層數、屋齡）建立5個 **Sigmoidal basis**：\n",
    "\n",
    "$$\n",
    "\\phi(x;\\mu,s) = \\frac{1}{1 + \\exp\\!\\left(-\\frac{x-\\mu}{s}\\right)}\n",
    "$$\n",
    "\n",
    "其中 $\\mu$（中心）以**訓練資料**該特徵的分位數決定（ $q \\in \\{0.1,0.3,0.5,0.7,0.9\\}$）；  \n",
    "$s$（斜率尺度）以**訓練資料**該特徵的 IQR（Q3 − Q1）之 $0.25$ 倍決定。  \n",
    "請記錄各特徵所用的 $\\mu$ 與 $s$，並以同一組參數轉換測試資料。 \n",
    "請將計算結果輸出，包含：  \n",
    "- 特徵名稱  \n",
    "- 5 個對應的 $\\mu$ 值  \n",
    "- 該特徵的 $s$ 值   \n",
    "\n",
    "(2) \n",
    "\n",
    "將本題產生的 Sigmoidal basis 特徵與 **Q1 的特徵**（**不加入 Q2 的 GBF**）合併，在訓練集選擇最佳 $\\alpha$，Regularizaiton coefficient (alphas) 應考慮介於0.01至100之間的數值，且至少應考慮十種可能的數值。\n",
    "請計算模型在測試資料上的 R²、RMSE、MAE、MAPE，並比較結果與 **Q1** 以及 **Q2** 之差異，說明 Sigmoidal basis 是否改善預測與可能原因。  \n"
   ]
  }
 ],
 "metadata": {
  "kernelspec": {
   "display_name": "Python 3",
   "language": "python",
   "name": "python3"
  },
  "language_info": {
   "codemirror_mode": {
    "name": "ipython",
    "version": 3
   },
   "file_extension": ".py",
   "mimetype": "text/x-python",
   "name": "python",
   "nbconvert_exporter": "python",
   "pygments_lexer": "ipython3",
   "version": "3.9.6"
  }
 },
 "nbformat": 4,
 "nbformat_minor": 4
}
